{
 "cells": [
  {
   "cell_type": "markdown",
   "id": "029b6bb9-836c-41e8-a1eb-3ceca1334202",
   "metadata": {},
   "source": [
    "# Day 4"
   ]
  },
  {
   "cell_type": "markdown",
   "id": "8b64aeef-4c7b-4419-960d-b1a518cf7e63",
   "metadata": {},
   "source": [
    "## Part 1"
   ]
  },
  {
   "cell_type": "code",
   "execution_count": null,
   "id": "3c635a1d-4ef1-47e1-bdbb-27832a1a2651",
   "metadata": {},
   "outputs": [],
   "source": [
    "# lines = [line.rstrip() for line in open('day4_input.txt')]\n",
    "lines = [line.rstrip() for line in open('day4_sample.txt')]"
   ]
  },
  {
   "cell_type": "code",
   "execution_count": null,
   "id": "dc75e1d4-1b03-4c95-a4ae-568d9fedd219",
   "metadata": {},
   "outputs": [],
   "source": [
    "def parse_line(line):\n",
    "    winning_numbers = [\n",
    "        int(num) for num in line.split(' | ')[0].split(': ')[1].split(' ') if num.isdigit()\n",
    "    ]\n",
    "    card_numbers = [\n",
    "        int(num) for num in line.split(' | ')[1].split(' ') if num.isdigit()\n",
    "    ]\n",
    "    matching_numbers = list(set(winning_numbers).intersection(card_numbers))\n",
    "    return 2**(len(matching_numbers) - 1) if matching_numbers else 0"
   ]
  },
  {
   "cell_type": "code",
   "execution_count": null,
   "id": "dc3cdf84-e453-41a4-8e3a-83349d3fdfd4",
   "metadata": {},
   "outputs": [],
   "source": [
    "sum(parse_line(line) for line in lines)"
   ]
  },
  {
   "cell_type": "markdown",
   "id": "c6a3a314-7d86-4c45-b9a4-eb5b28d8da8c",
   "metadata": {},
   "source": [
    "## Part 2"
   ]
  },
  {
   "cell_type": "code",
   "execution_count": null,
   "id": "7bca19b3-2b1d-473f-b477-a4b70852236d",
   "metadata": {},
   "outputs": [],
   "source": [
    "total_count_dict = {key: 1 for key in range(1, 1 + len(lines))}\n",
    "\n",
    "for line in lines:\n",
    "    winning_numbers = [\n",
    "        int(num) for num in line.split(' | ')[0].split(': ')[1].split(' ') if num.isdigit()\n",
    "    ]\n",
    "    card_numbers = [\n",
    "        int(num) for num in line.split(' | ')[1].split(' ') if num.isdigit()\n",
    "    ]\n",
    "    card_num = int(line.split(': ')[0].split(' ')[1])\n",
    "    \n",
    "    score = len(list(set(winning_numbers).intersection(card_numbers)))\n",
    "\n",
    "    for j in range(score):\n",
    "        total_count_dict[card_num+j+1] += total_count_dict[card_num]\n",
    "    \n",
    "sum(total_count_dict.values())"
   ]
  },
  {
   "cell_type": "code",
   "execution_count": null,
   "id": "3d44b2cd-6a7e-4f93-af6e-462076f8044f",
   "metadata": {},
   "outputs": [],
   "source": []
  }
 ],
 "metadata": {
  "kernelspec": {
   "display_name": "Python 3 (ipykernel)",
   "language": "python",
   "name": "python3"
  },
  "language_info": {
   "codemirror_mode": {
    "name": "ipython",
    "version": 3
   },
   "file_extension": ".py",
   "mimetype": "text/x-python",
   "name": "python",
   "nbconvert_exporter": "python",
   "pygments_lexer": "ipython3",
   "version": "3.9.2"
  }
 },
 "nbformat": 4,
 "nbformat_minor": 5
}
