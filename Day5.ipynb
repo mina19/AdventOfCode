{
 "cells": [
  {
   "cell_type": "markdown",
   "id": "029b6bb9-836c-41e8-a1eb-3ceca1334202",
   "metadata": {},
   "source": [
    "# Day 5"
   ]
  },
  {
   "cell_type": "markdown",
   "id": "8b64aeef-4c7b-4419-960d-b1a518cf7e63",
   "metadata": {},
   "source": [
    "## Part 1"
   ]
  },
  {
   "cell_type": "code",
   "execution_count": 1,
   "id": "3c635a1d-4ef1-47e1-bdbb-27832a1a2651",
   "metadata": {},
   "outputs": [],
   "source": [
    "#lines = [line.rstrip() for line in open('day5_input.txt')]\n",
    "lines = [line.rstrip() for line in open('day5_sample.txt')]"
   ]
  },
  {
   "cell_type": "code",
   "execution_count": 2,
   "id": "b0c56225-a623-482a-81fd-32436ff7e932",
   "metadata": {},
   "outputs": [],
   "source": [
    "def split_vals(string):\n",
    "    return [int(number) for number in string.split(' ') if number.isdigit()]"
   ]
  },
  {
   "cell_type": "code",
   "execution_count": 3,
   "id": "97ad0def-f5bb-4c3c-9a9f-6a85ac618526",
   "metadata": {},
   "outputs": [],
   "source": [
    "categories = [(line.split(':')[0], lines.index(line)) for line in lines if ':' in line][1:]\n",
    "seeds = split_vals(lines[0].split(':')[1])\n",
    "\n",
    "map_names = []\n",
    "map_values = []\n",
    "for i in range(len(categories)):\n",
    "    start_index = categories[i][1] + 1\n",
    "    end_index = categories[i+1][1] if i!=len(categories)-1 else -1\n",
    "    maps = lines[start_index:categories[i+1][1]] if i!=len(categories)-1 else lines[start_index:]\n",
    "    maps = [line for line in maps if line!='']\n",
    "    maps = [split_vals(map) for map in maps]\n",
    "    map_names.append(categories[i][0])\n",
    "    map_values.append(maps)"
   ]
  },
  {
   "cell_type": "code",
   "execution_count": 4,
   "id": "4d5c8848-ff95-41b5-abd1-adcc276cfb77",
   "metadata": {},
   "outputs": [],
   "source": [
    "destination_range_starts = [[i[0] for i in sublist] for sublist in map_values]\n",
    "source_range_starts = [[i[1] for i in sublist] for sublist in map_values]\n",
    "range_lengths = [[i[-1] for i in sublist] for sublist in map_values]"
   ]
  },
  {
   "cell_type": "code",
   "execution_count": 5,
   "id": "6ac72bac-aa03-4bcd-922c-0a2ef3770976",
   "metadata": {},
   "outputs": [],
   "source": [
    "# NAIVE SOLUTION"
   ]
  },
  {
   "cell_type": "raw",
   "id": "37b4e1e8-84a6-40a8-9e33-ff6afbb4fb70",
   "metadata": {},
   "source": [
    "maps = []\n",
    "for destination_starts, source_starts, ranges in zip(destination_range_starts, source_range_starts, range_lengths):\n",
    "    map_dict = {}\n",
    "    for destination_start, source_start, r in zip(destination_starts, source_starts, ranges):\n",
    "        destinations = [i for i in range(destination_start,destination_start + r)]\n",
    "        sources = [i for i in range(source_start, source_start + r)]\n",
    "        map_dict.update(dict(zip(sources, destinations)))\n",
    "    maps.append(map_dict)"
   ]
  },
  {
   "cell_type": "raw",
   "id": "53ab5761-4de3-4e31-a756-1e2465c2208e",
   "metadata": {},
   "source": [
    "locations = []\n",
    "for seed in seeds:\n",
    "    soil = maps[0].get(seed, seed)\n",
    "    fertilizer = maps[1].get(soil, soil)\n",
    "    water = maps[2].get(fertilizer, fertilizer)\n",
    "    light = maps[3].get(water, water)\n",
    "    temperature = maps[4].get(light, light)\n",
    "    humidity = maps[5].get(temperature, temperature)\n",
    "    location = maps[6].get(humidity, humidity)\n",
    "    locations.append(location)\n",
    "\n",
    "min(locations)"
   ]
  },
  {
   "cell_type": "code",
   "execution_count": null,
   "id": "98d821eb-99b8-4b7d-81b7-c81ea0f06782",
   "metadata": {},
   "outputs": [],
   "source": []
  }
 ],
 "metadata": {
  "kernelspec": {
   "display_name": "Python 3 (ipykernel)",
   "language": "python",
   "name": "python3"
  },
  "language_info": {
   "codemirror_mode": {
    "name": "ipython",
    "version": 3
   },
   "file_extension": ".py",
   "mimetype": "text/x-python",
   "name": "python",
   "nbconvert_exporter": "python",
   "pygments_lexer": "ipython3",
   "version": "3.9.2"
  }
 },
 "nbformat": 4,
 "nbformat_minor": 5
}
