{
 "cells": [
  {
   "cell_type": "markdown",
   "id": "029b6bb9-836c-41e8-a1eb-3ceca1334202",
   "metadata": {},
   "source": [
    "# Day 5"
   ]
  },
  {
   "cell_type": "markdown",
   "id": "8b64aeef-4c7b-4419-960d-b1a518cf7e63",
   "metadata": {},
   "source": [
    "## Part 1"
   ]
  },
  {
   "cell_type": "code",
   "execution_count": 1,
   "id": "3c635a1d-4ef1-47e1-bdbb-27832a1a2651",
   "metadata": {},
   "outputs": [],
   "source": [
    "# lines = [line.rstrip() for line in open('day5_input.txt')]\n",
    "lines = [line.rstrip() for line in open('day5_sample.txt')]"
   ]
  },
  {
   "cell_type": "code",
   "execution_count": 2,
   "id": "b0c56225-a623-482a-81fd-32436ff7e932",
   "metadata": {},
   "outputs": [],
   "source": [
    "def split_vals(string):\n",
    "    return [int(number) for number in string.split(' ') if number.isdigit()]"
   ]
  },
  {
   "cell_type": "code",
   "execution_count": 3,
   "id": "97ad0def-f5bb-4c3c-9a9f-6a85ac618526",
   "metadata": {},
   "outputs": [],
   "source": [
    "categories = [(line.split(':')[0], lines.index(line)) for line in lines if ':' in line][1:]\n",
    "initial_seeds = split_vals(lines[0].split(':')[1])\n",
    "\n",
    "map_names = []\n",
    "map_values = []\n",
    "for i in range(len(categories)):\n",
    "    start_index = categories[i][1] + 1\n",
    "    end_index = categories[i+1][1] if i!=len(categories)-1 else -1\n",
    "    maps = lines[start_index:categories[i+1][1]] if i!=len(categories)-1 else lines[start_index:]\n",
    "    maps = [line for line in maps if line!='']\n",
    "    maps = [split_vals(map) for map in maps]\n",
    "    map_names.append(categories[i][0])\n",
    "    map_values.append(maps)"
   ]
  },
  {
   "cell_type": "code",
   "execution_count": 4,
   "id": "4d5c8848-ff95-41b5-abd1-adcc276cfb77",
   "metadata": {},
   "outputs": [],
   "source": [
    "destination_range_starts = [[i[0] for i in sublist] for sublist in map_values]\n",
    "source_range_starts = [[i[1] for i in sublist] for sublist in map_values]\n",
    "range_lengths = [[i[-1] for i in sublist] for sublist in map_values]"
   ]
  },
  {
   "cell_type": "markdown",
   "id": "babc37c7-af55-493e-b6c0-7e937d3a8d6e",
   "metadata": {},
   "source": [
    "## NAIVE SOLUTION"
   ]
  },
  {
   "cell_type": "code",
   "execution_count": 5,
   "id": "58e6e33d-cb60-4a5a-9df4-a43b6e3b0db0",
   "metadata": {},
   "outputs": [],
   "source": [
    "# maps = []\n",
    "# for destination_starts, source_starts, ranges in zip(destination_range_starts, source_range_starts, range_lengths):\n",
    "#     map_dict = {}\n",
    "#     for destination_start, source_start, r in zip(destination_starts, source_starts, ranges):\n",
    "#         destinations = [i for i in range(destination_start,destination_start + r)]\n",
    "#         sources = [i for i in range(source_start, source_start + r)]\n",
    "#         map_dict.update(dict(zip(sources, destinations)))\n",
    "#     maps.append(map_dict)"
   ]
  },
  {
   "cell_type": "code",
   "execution_count": 6,
   "id": "7244b2bf-9e23-4bd9-b310-5831dbc53390",
   "metadata": {},
   "outputs": [],
   "source": [
    "# locations = []\n",
    "# for seed in initial_seeds:\n",
    "#     soil = maps[0].get(seed, seed)\n",
    "#     fertilizer = maps[1].get(soil, soil)\n",
    "#     water = maps[2].get(fertilizer, fertilizer)\n",
    "#     light = maps[3].get(water, water)\n",
    "#     temperature = maps[4].get(light, light)\n",
    "#     humidity = maps[5].get(temperature, temperature)\n",
    "#     location = maps[6].get(humidity, humidity)\n",
    "#     locations.append(location)\n",
    "\n",
    "# min(locations)"
   ]
  },
  {
   "cell_type": "markdown",
   "id": "b1bf1400-3625-412c-bb8b-df483926076b",
   "metadata": {},
   "source": [
    "## IMPROVED SOLUTION"
   ]
  },
  {
   "cell_type": "code",
   "execution_count": 7,
   "id": "5f21c31f-7d33-4732-a26c-f82795942626",
   "metadata": {},
   "outputs": [],
   "source": [
    "maps = []\n",
    "\n",
    "for destination_starts, source_starts, ranges in zip(destination_range_starts, source_range_starts, range_lengths):\n",
    "    map_dict = {}\n",
    "    for destination_start, source_start, r in zip(destination_starts, source_starts, ranges):\n",
    "        map_dict[source_start] = (destination_start, r)\n",
    "    maps.append(map_dict)\n",
    "\n",
    "[seeds, soil, fertilizer, water, light, temperature, humidity] = maps"
   ]
  },
  {
   "cell_type": "code",
   "execution_count": 8,
   "id": "7b0fd8a2-540c-4be3-9f67-731ba9771a4c",
   "metadata": {},
   "outputs": [],
   "source": [
    "def lookup(dictionary, i):\n",
    "    # find the largest key less than or equal to i\n",
    "    l = [key for key in dictionary if key <= i]\n",
    "    if len(l) == 0:\n",
    "        return i\n",
    "    the_key = max(l)\n",
    "    mapping_start, mapping_len = dictionary[the_key]\n",
    "    mapping_offset = i - the_key\n",
    "    if mapping_offset >= mapping_len:\n",
    "        return i\n",
    "    return mapping_start + mapping_offset\n",
    "\n",
    "def lookup_location(i):\n",
    "    soil_val = lookup(seeds, i)\n",
    "    fertilizer_val = lookup(soil, soil_val)\n",
    "    water_val = lookup(fertilizer, fertilizer_val)\n",
    "    light_val = lookup(water, water_val)\n",
    "    temp_val = lookup(light, light_val)\n",
    "    humidity_val = lookup(temperature, temp_val)\n",
    "    return lookup(humidity, humidity_val)"
   ]
  },
  {
   "cell_type": "code",
   "execution_count": 9,
   "id": "ae1ae232-bbcc-4e6e-96a3-da3c37710aa6",
   "metadata": {},
   "outputs": [
    {
     "data": {
      "text/plain": [
       "35"
      ]
     },
     "execution_count": 9,
     "metadata": {},
     "output_type": "execute_result"
    }
   ],
   "source": [
    "locations = [lookup_location(x) for x in initial_seeds]\n",
    "\n",
    "min(locations)"
   ]
  },
  {
   "cell_type": "markdown",
   "id": "2c314b21-6bd9-409b-88ca-425819eb7157",
   "metadata": {},
   "source": [
    "## Part 2"
   ]
  },
  {
   "cell_type": "code",
   "execution_count": 10,
   "id": "bf8bfb6c-f315-445b-b0e3-150718c0e459",
   "metadata": {},
   "outputs": [
    {
     "data": {
      "text/plain": [
       "[79, 14, 55, 13]"
      ]
     },
     "execution_count": 10,
     "metadata": {},
     "output_type": "execute_result"
    }
   ],
   "source": [
    "initial_seeds"
   ]
  },
  {
   "cell_type": "code",
   "execution_count": 11,
   "id": "854932de-e764-4c15-9ffc-57cabf08d796",
   "metadata": {},
   "outputs": [],
   "source": [
    "seed_starts = initial_seeds[::2]\n",
    "ranges = initial_seeds[1::2]"
   ]
  },
  {
   "cell_type": "markdown",
   "id": "12b0cf5b-9371-42e9-8fb3-a7a01586fea7",
   "metadata": {},
   "source": [
    "## NAIVE SOLUTION"
   ]
  },
  {
   "cell_type": "code",
   "execution_count": 12,
   "id": "0990da50-c401-431d-8f5c-bf258c9c5bdd",
   "metadata": {},
   "outputs": [],
   "source": [
    "# new_seeds = []\n",
    "# for seed_start, r in zip(seed_starts, ranges):\n",
    "#     new_seeds += [i for i in range(seed_start, seed_start + r)]"
   ]
  },
  {
   "cell_type": "code",
   "execution_count": 13,
   "id": "ee61c258-451f-4b34-9ae5-801fe18228ae",
   "metadata": {},
   "outputs": [],
   "source": [
    "# locations = [lookup_location(x) for x in new_seeds]\n",
    "# min(locations)"
   ]
  },
  {
   "cell_type": "markdown",
   "id": "5e635c53-fb85-44d5-8eed-6719fd70dfcb",
   "metadata": {},
   "source": [
    "## Improved solution"
   ]
  },
  {
   "cell_type": "code",
   "execution_count": 14,
   "id": "25cf8aaf-8874-4a57-a432-8c17600b75e3",
   "metadata": {},
   "outputs": [],
   "source": [
    "def ranges_intersect(a, b):\n",
    "    # Finds the intersection of two tuples a and b\n",
    "    # If there is no intersection return None\n",
    "    if not (a[0] <= b[0] < (a[0] + a[1]) or b[0] <= a[0] < (b[0] + b[1])):\n",
    "        return None\n",
    "\n",
    "    if a[0] <= b[0] < (a[0] + a[1]):\n",
    "        return b[0], min(a[0] + a[1] - b[0], b[1])\n",
    "    else:\n",
    "        return a[0], min(b[0] + b[1] - a[0], a[1])"
   ]
  },
  {
   "cell_type": "code",
   "execution_count": 15,
   "id": "1c91ab64-fca0-4bf5-b0dd-560484935991",
   "metadata": {},
   "outputs": [],
   "source": [
    "seeds1 = [(seed_start, r) for seed_start, r in zip(seed_starts, ranges)]\n",
    "soil1 = []\n",
    "fertilizer1 = []\n",
    "water1 = []\n",
    "light1 = []\n",
    "temperature1 = []\n",
    "humidity1 = []\n",
    "location1 = []"
   ]
  },
  {
   "cell_type": "code",
   "execution_count": 16,
   "id": "1252b72a-8ee6-4e78-84b4-c9886803dd20",
   "metadata": {},
   "outputs": [],
   "source": [
    "all_ranges = []\n",
    "\n",
    "for destination_starts, source_starts, ranges in zip(destination_range_starts, source_range_starts, range_lengths):\n",
    "    ranges_ = []\n",
    "    for destination_start, source_start, r in zip(destination_starts, source_starts, ranges):\n",
    "        ranges_.append((source_start, r, destination_start))\n",
    "    all_ranges.append(ranges_)"
   ]
  },
  {
   "cell_type": "code",
   "execution_count": 17,
   "id": "9b8115df-2403-445b-9106-381b59d4267b",
   "metadata": {},
   "outputs": [],
   "source": [
    "def process_ranges(prev, next, j):\n",
    "    for prev_range in prev:\n",
    "        intersected = []\n",
    "        for next_range in all_ranges[j]:\n",
    "            intersect = ranges_intersect((prev_range[0], prev_range[1]), (next_range[0], next_range[1]))\n",
    "            if intersect is not None:\n",
    "                intersected.append(intersect)\n",
    "                next.append((intersect[0] - next_range[0] + next_range[2], intersect[1]))\n",
    "        intersected.sort(key=lambda x: x[0])\n",
    "        current_index = prev_range[0]\n",
    "        for r in intersected:\n",
    "            if r[0] > current_index:\n",
    "                next.append((current_index, r[0] - current_index))\n",
    "            current_index = r[0] + r[1]\n",
    "        if current_index < prev_range[0] + prev_range[1]:\n",
    "            next.append((current_index, prev_range[0] + prev_range[1] - current_index))\n",
    "    print(f'{map_names[j]}: {prev} -> {next}')\n",
    "    return next"
   ]
  },
  {
   "cell_type": "code",
   "execution_count": 18,
   "id": "b0744fb9-d963-4696-87c3-46947fe59f36",
   "metadata": {},
   "outputs": [
    {
     "name": "stdout",
     "output_type": "stream",
     "text": [
      "seed-to-soil map: [(79, 14), (55, 13)] -> [(81, 14), (57, 13)]\n",
      "soil-to-fertilizer map: [(81, 14), (57, 13)] -> [(81, 14), (57, 13)]\n",
      "fertilizer-to-water map: [(81, 14), (57, 13)] -> [(81, 14), (53, 4), (61, 9)]\n",
      "water-to-light map: [(81, 14), (53, 4), (61, 9)] -> [(74, 14), (46, 4), (54, 9)]\n",
      "light-to-temperature map: [(74, 14), (46, 4), (54, 9)] -> [(45, 11), (78, 3), (82, 4), (90, 9)]\n",
      "temperature-to-humidity map: [(45, 11), (78, 3), (82, 4), (90, 9)] -> [(46, 11), (78, 3), (82, 4), (90, 9)]\n",
      "humidity-to-location map: [(46, 11), (78, 3), (82, 4), (90, 9)] -> [(60, 1), (46, 10), (82, 3), (86, 4), (94, 3), (56, 4), (97, 2)]\n"
     ]
    }
   ],
   "source": [
    "soil1 = process_ranges(seeds1, soil1, 0)\n",
    "fertilizer1 = process_ranges(soil1, fertilizer1, 1)\n",
    "water1 = process_ranges(fertilizer1, water1, 2)\n",
    "light1 = process_ranges(water1, light1, 3)\n",
    "temperature1 = process_ranges(light1, temperature1, 4)\n",
    "humidity1 = process_ranges(temperature1, humidity1, 5)\n",
    "location1 = process_ranges(humidity1, location1, 6)"
   ]
  },
  {
   "cell_type": "code",
   "execution_count": 19,
   "id": "3e6e8098-34c8-4448-9ed6-511cc8f0afe7",
   "metadata": {},
   "outputs": [
    {
     "data": {
      "text/plain": [
       "46"
      ]
     },
     "execution_count": 19,
     "metadata": {},
     "output_type": "execute_result"
    }
   ],
   "source": [
    "min([loc[0] for loc in location1])"
   ]
  }
 ],
 "metadata": {
  "kernelspec": {
   "display_name": "Python 3 (ipykernel)",
   "language": "python",
   "name": "python3"
  },
  "language_info": {
   "codemirror_mode": {
    "name": "ipython",
    "version": 3
   },
   "file_extension": ".py",
   "mimetype": "text/x-python",
   "name": "python",
   "nbconvert_exporter": "python",
   "pygments_lexer": "ipython3",
   "version": "3.9.2"
  }
 },
 "nbformat": 4,
 "nbformat_minor": 5
}
