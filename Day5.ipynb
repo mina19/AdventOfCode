{
 "cells": [
  {
   "cell_type": "markdown",
   "id": "029b6bb9-836c-41e8-a1eb-3ceca1334202",
   "metadata": {},
   "source": [
    "# Day 5"
   ]
  },
  {
   "cell_type": "markdown",
   "id": "8b64aeef-4c7b-4419-960d-b1a518cf7e63",
   "metadata": {},
   "source": [
    "## Part 1"
   ]
  },
  {
   "cell_type": "code",
   "execution_count": null,
   "id": "3c635a1d-4ef1-47e1-bdbb-27832a1a2651",
   "metadata": {},
   "outputs": [],
   "source": [
    "# lines = [line.rstrip() for line in open('day5_input.txt')]\n",
    "lines = [line.rstrip() for line in open('day5_sample.txt')]"
   ]
  },
  {
   "cell_type": "code",
   "execution_count": null,
   "id": "b0c56225-a623-482a-81fd-32436ff7e932",
   "metadata": {},
   "outputs": [],
   "source": [
    "def split_vals(string):\n",
    "    return [int(number) for number in string.split(' ') if number.isdigit()]"
   ]
  },
  {
   "cell_type": "code",
   "execution_count": null,
   "id": "97ad0def-f5bb-4c3c-9a9f-6a85ac618526",
   "metadata": {},
   "outputs": [],
   "source": [
    "categories = [(line.split(':')[0], lines.index(line)) for line in lines if ':' in line][1:]\n",
    "initial_seeds = split_vals(lines[0].split(':')[1])\n",
    "\n",
    "map_names = []\n",
    "map_values = []\n",
    "for i in range(len(categories)):\n",
    "    start_index = categories[i][1] + 1\n",
    "    end_index = categories[i+1][1] if i!=len(categories)-1 else -1\n",
    "    maps = lines[start_index:categories[i+1][1]] if i!=len(categories)-1 else lines[start_index:]\n",
    "    maps = [line for line in maps if line!='']\n",
    "    maps = [split_vals(map) for map in maps]\n",
    "    map_names.append(categories[i][0])\n",
    "    map_values.append(maps)"
   ]
  },
  {
   "cell_type": "code",
   "execution_count": null,
   "id": "4d5c8848-ff95-41b5-abd1-adcc276cfb77",
   "metadata": {},
   "outputs": [],
   "source": [
    "destination_range_starts = [[i[0] for i in sublist] for sublist in map_values]\n",
    "source_range_starts = [[i[1] for i in sublist] for sublist in map_values]\n",
    "range_lengths = [[i[-1] for i in sublist] for sublist in map_values]"
   ]
  },
  {
   "cell_type": "markdown",
   "id": "babc37c7-af55-493e-b6c0-7e937d3a8d6e",
   "metadata": {},
   "source": [
    "## NAIVE SOLUTION"
   ]
  },
  {
   "cell_type": "raw",
   "id": "12155ffe-3a2c-4562-9e3d-14432c416ec4",
   "metadata": {},
   "source": [
    "maps = []\n",
    "for destination_starts, source_starts, ranges in zip(destination_range_starts, source_range_starts, range_lengths):\n",
    "    map_dict = {}\n",
    "    for destination_start, source_start, r in zip(destination_starts, source_starts, ranges):\n",
    "        destinations = [i for i in range(destination_start,destination_start + r)]\n",
    "        sources = [i for i in range(source_start, source_start + r)]\n",
    "        map_dict.update(dict(zip(sources, destinations)))\n",
    "    maps.append(map_dict)"
   ]
  },
  {
   "cell_type": "raw",
   "id": "763a0b47-a4ff-4f4b-aff1-3bb52e2a7d78",
   "metadata": {},
   "source": [
    "locations = []\n",
    "for seed in initial_seeds:\n",
    "    soil = maps[0].get(seed, seed)\n",
    "    fertilizer = maps[1].get(soil, soil)\n",
    "    water = maps[2].get(fertilizer, fertilizer)\n",
    "    light = maps[3].get(water, water)\n",
    "    temperature = maps[4].get(light, light)\n",
    "    humidity = maps[5].get(temperature, temperature)\n",
    "    location = maps[6].get(humidity, humidity)\n",
    "    locations.append(location)\n",
    "\n",
    "min(locations)"
   ]
  },
  {
   "cell_type": "markdown",
   "id": "b1bf1400-3625-412c-bb8b-df483926076b",
   "metadata": {},
   "source": [
    "## IMPROVED SOLUTION"
   ]
  },
  {
   "cell_type": "code",
   "execution_count": null,
   "id": "5f21c31f-7d33-4732-a26c-f82795942626",
   "metadata": {},
   "outputs": [],
   "source": [
    "maps = []\n",
    "\n",
    "for destination_starts, source_starts, ranges in zip(destination_range_starts, source_range_starts, range_lengths):\n",
    "    map_dict = {}\n",
    "    for destination_start, source_start, r in zip(destination_starts, source_starts, ranges):\n",
    "        map_dict[source_start] = (destination_start, r)\n",
    "    maps.append(map_dict)\n",
    "\n",
    "[seeds, soil, fertilizer, water, light, temperature, humidity] = maps"
   ]
  },
  {
   "cell_type": "code",
   "execution_count": null,
   "id": "7b0fd8a2-540c-4be3-9f67-731ba9771a4c",
   "metadata": {},
   "outputs": [],
   "source": [
    "def lookup(d, i):\n",
    "    # find the largest key less than or equal to i\n",
    "    l = [k for k in d if k <= i]\n",
    "    if len(l) == 0:\n",
    "        return i\n",
    "    the_key = max(l)\n",
    "    if the_key is None:\n",
    "        return i\n",
    "    mapping_start, mapping_len = d[the_key]\n",
    "    mapping_offset = i - the_key\n",
    "    if mapping_offset >= mapping_len:\n",
    "        return i\n",
    "    return mapping_start + mapping_offset\n",
    "\n",
    "def lookup_location(i):\n",
    "    return lookup(humidity, lookup(temperature, lookup(light, lookup(water, lookup(fertilizer, lookup(soil, lookup(seeds, i)))))))\n",
    "\n",
    "locations = [lookup_location(x) for x in initial_seeds]\n",
    "\n",
    "print(min(locations))"
   ]
  },
  {
   "cell_type": "code",
   "execution_count": null,
   "id": "af942d5f-c7a4-4e62-b5c9-60841e8d205c",
   "metadata": {},
   "outputs": [],
   "source": []
  }
 ],
 "metadata": {
  "kernelspec": {
   "display_name": "Python 3 (ipykernel)",
   "language": "python",
   "name": "python3"
  },
  "language_info": {
   "codemirror_mode": {
    "name": "ipython",
    "version": 3
   },
   "file_extension": ".py",
   "mimetype": "text/x-python",
   "name": "python",
   "nbconvert_exporter": "python",
   "pygments_lexer": "ipython3",
   "version": "3.9.2"
  }
 },
 "nbformat": 4,
 "nbformat_minor": 5
}
