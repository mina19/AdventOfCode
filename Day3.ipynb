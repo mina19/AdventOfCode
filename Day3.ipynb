{
 "cells": [
  {
   "cell_type": "markdown",
   "id": "3310d9b9-2d81-4324-8978-f61e2cae592f",
   "metadata": {},
   "source": [
    "# Day 3"
   ]
  },
  {
   "cell_type": "code",
   "execution_count": 1,
   "id": "521973bd-e0d2-404f-92d5-3d6a56acba77",
   "metadata": {},
   "outputs": [],
   "source": [
    "#lines = [line.rstrip() for line in open('day3_input.txt')]\n",
    "lines = [line.rstrip() for line in open('day3_sample.txt')]"
   ]
  },
  {
   "cell_type": "code",
   "execution_count": 2,
   "id": "b01404c6-ea32-46ef-a151-5a797c1680cf",
   "metadata": {},
   "outputs": [],
   "source": [
    "special_chars = \"!@#$%^&*()[]{};:,/<>?\\|`~-=_+\"\n",
    "d = [(-1, -1), (-1, 0), (-1, 1), (0, -1), (0, 1), (1, -1), (1, 0), (1, 1)]\n",
    "matrix = lines.copy()"
   ]
  },
  {
   "cell_type": "markdown",
   "id": "c1cd0b40-e407-4ffe-86bf-b1e8dbbf8783",
   "metadata": {},
   "source": [
    "## Part 1"
   ]
  },
  {
   "cell_type": "code",
   "execution_count": 3,
   "id": "ea45ac86-b38f-42f5-b914-e8549c9a1475",
   "metadata": {},
   "outputs": [],
   "source": [
    "already_considered = set()\n",
    "result = 0\n",
    "\n",
    "for i in range(len(lines)):\n",
    "    j = 0\n",
    "    for ch in matrix[i]:\n",
    "        if ch in special_chars: # if ch != \".\" and not ch.isdigit():\n",
    "            for di, dj in d:\n",
    "                if 0 <= i + di < len(matrix) and 0 <= j + dj < len(matrix[0]):\n",
    "                    line = matrix[i + di]\n",
    "                    k = j + dj\n",
    "                    while k >= 0 and line[k].isdigit():\n",
    "                        k -= 1\n",
    "                    k += 1\n",
    "                    l = j + dj\n",
    "                    while l < len(line) and line[l].isdigit():\n",
    "                        l += 1\n",
    "                    l -= 1\n",
    "                    if k > l:\n",
    "                        continue\n",
    "                    should_add = True\n",
    "                    for m in range(k, l + 1):\n",
    "                        if (i + di, m) in already_considered:\n",
    "                            should_add = False\n",
    "                        else:\n",
    "                            already_considered.add((i + di, m))\n",
    "                    if should_add:\n",
    "                        num = int(line[k:l + 1])\n",
    "                        result += num\n",
    "        j += 1\n",
    "    i += 1"
   ]
  },
  {
   "cell_type": "code",
   "execution_count": 4,
   "id": "042abb53-c1df-4fdc-9a53-ded38ed7ad78",
   "metadata": {},
   "outputs": [
    {
     "data": {
      "text/plain": [
       "4361"
      ]
     },
     "execution_count": 4,
     "metadata": {},
     "output_type": "execute_result"
    }
   ],
   "source": [
    "result"
   ]
  },
  {
   "cell_type": "markdown",
   "id": "1a774522-5f0f-4584-8568-7880a59b0312",
   "metadata": {},
   "source": [
    "## Part 2"
   ]
  },
  {
   "cell_type": "code",
   "execution_count": 5,
   "id": "32b9cf07-a73b-4532-8adf-096e14a11a7b",
   "metadata": {},
   "outputs": [],
   "source": [
    "already_considered = set()\n",
    "result = 0\n",
    "\n",
    "for i in range(len(lines)):\n",
    "    j = 0\n",
    "    for ch in matrix[i]:\n",
    "        if ch == \"*\":\n",
    "            ratio = 1\n",
    "            gears = 0\n",
    "            for di, dj in d:\n",
    "                if 0 <= i + di < len(matrix) and 0 <= j + dj < len(matrix[0]):\n",
    "                    line = matrix[i + di]\n",
    "                    k = j + dj\n",
    "                    while k >= 0 and line[k].isdigit():\n",
    "                        k -= 1\n",
    "                    k += 1\n",
    "                    l = j + dj\n",
    "                    while l < len(line) and line[l].isdigit():\n",
    "                        l += 1\n",
    "                    l -= 1\n",
    "                    if k > l:\n",
    "                        continue\n",
    "                    should_add = True\n",
    "                    for m in range(k, l + 1):\n",
    "                        if (i + di, m) in already_considered:\n",
    "                            should_add = False\n",
    "                        else:\n",
    "                            already_considered.add((i + di, m))\n",
    "                    if should_add:\n",
    "                        gears += 1\n",
    "                        num = int(line[k:l + 1])\n",
    "                        ratio *= num\n",
    "            if gears == 2:\n",
    "                result += ratio\n",
    "        j += 1\n",
    "    i += 1"
   ]
  },
  {
   "cell_type": "code",
   "execution_count": 6,
   "id": "f4524957-51af-4685-aa48-3b3f7bbea240",
   "metadata": {},
   "outputs": [
    {
     "data": {
      "text/plain": [
       "467835"
      ]
     },
     "execution_count": 6,
     "metadata": {},
     "output_type": "execute_result"
    }
   ],
   "source": [
    "result"
   ]
  },
  {
   "cell_type": "code",
   "execution_count": null,
   "id": "d1c69816-3e7e-466f-b840-d7ecb0e6bcda",
   "metadata": {},
   "outputs": [],
   "source": []
  }
 ],
 "metadata": {
  "kernelspec": {
   "display_name": "Python 3 (ipykernel)",
   "language": "python",
   "name": "python3"
  },
  "language_info": {
   "codemirror_mode": {
    "name": "ipython",
    "version": 3
   },
   "file_extension": ".py",
   "mimetype": "text/x-python",
   "name": "python",
   "nbconvert_exporter": "python",
   "pygments_lexer": "ipython3",
   "version": "3.9.2"
  }
 },
 "nbformat": 4,
 "nbformat_minor": 5
}
