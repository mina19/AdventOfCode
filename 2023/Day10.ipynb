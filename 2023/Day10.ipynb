{
 "cells": [
  {
   "cell_type": "markdown",
   "id": "9c1ce452-dc5e-45fe-ae10-a3482f2c9f2c",
   "metadata": {},
   "source": [
    "# Day 10"
   ]
  },
  {
   "cell_type": "markdown",
   "id": "b3d863d9-f85c-4a64-81b9-3f6236aaf2f4",
   "metadata": {},
   "source": [
    "## Part 1"
   ]
  },
  {
   "cell_type": "markdown",
   "id": "47a892a3-cfe8-4a47-8a30-0f6a6784bf9f",
   "metadata": {},
   "source": [
    "\"|\" is a vertical pipe connecting north and south.\n",
    "\n",
    "\"-\" is a horizontal pipe connecting east and west.\n",
    "\n",
    "\"L\" is a 90-degree bend connecting north and east.\n",
    "\n",
    "\"J\" is a 90-degree bend connecting north and west.\n",
    "\n",
    "\"7\" is a 90-degree bend connecting south and west.\n",
    "\n",
    "\"F\" is a 90-degree bend connecting south and east.\n",
    "\n",
    "\".\" is ground; there is no pipe in this tile.\n",
    "\n",
    "\"S\" is the starting position of the animal; there is a pipe on this tile, but your sketch doesn't show what shape the pipe has."
   ]
  },
  {
   "cell_type": "code",
   "execution_count": 1,
   "id": "490ac7db-4e13-4bec-bb5c-27941965dd0c",
   "metadata": {},
   "outputs": [],
   "source": [
    "# lines = [line.rstrip() for line in open('day10_input.txt')]\n",
    "lines = [line.rstrip() for line in open('day10_sample.txt')]"
   ]
  },
  {
   "cell_type": "code",
   "execution_count": 2,
   "id": "46b1c2a3-65fa-4ece-a80c-0fd89d7237ea",
   "metadata": {},
   "outputs": [],
   "source": [
    "def find_start():\n",
    "    grid = []\n",
    "    \n",
    "    for i,line in enumerate(lines):\n",
    "        grid.append(list(line))\n",
    "        if \"S\" in line:\n",
    "            start_loc = (i, line.index(\"S\"))\n",
    "    return grid, start_loc"
   ]
  },
  {
   "cell_type": "code",
   "execution_count": 3,
   "id": "d588e37f-f577-459a-8402-e6c510e40c57",
   "metadata": {},
   "outputs": [],
   "source": [
    "def has_connection(grid, row, col, direction):\n",
    "    pipe = grid[row][col]\n",
    "    if direction == \"north\":\n",
    "        return pipe in \"S|LJ\"\n",
    "    elif direction == \"east\":\n",
    "        return pipe in \"S-LF\"\n",
    "    elif direction == \"west\":\n",
    "        return pipe in \"S-J7\"\n",
    "    elif direction == \"south\":\n",
    "        return pipe in \"S|F7\""
   ]
  },
  {
   "cell_type": "code",
   "execution_count": 4,
   "id": "899248dc-1fee-4cee-97f6-4e1af858f7c0",
   "metadata": {},
   "outputs": [],
   "source": [
    "def get_neighbors(grid, row, col):\n",
    "    neighbors = []\n",
    "    if row > 0 and has_connection(grid, row, col, \"north\"):\n",
    "        if has_connection(grid, row - 1, col, \"south\"):\n",
    "            neighbors.append((row - 1, col))\n",
    "    if col > 0 and has_connection(grid, row, col, \"west\"):\n",
    "        if has_connection(grid, row, col - 1, \"east\"):\n",
    "            neighbors.append((row, col - 1))\n",
    "    if row < len(grid) - 1 and has_connection(grid, row, col, \"south\"):\n",
    "        if has_connection(grid, row + 1, col, \"north\"):\n",
    "            neighbors.append((row + 1, col))\n",
    "    if col < len(grid[0]) - 1 and has_connection(grid, row, col, \"east\"):\n",
    "        if has_connection(grid, row, col + 1, \"west\"):\n",
    "            neighbors.append((row, col + 1))\n",
    "    return neighbors"
   ]
  },
  {
   "cell_type": "code",
   "execution_count": 5,
   "id": "c895e7b2-b82f-43cc-a3ce-7556a47b8b54",
   "metadata": {},
   "outputs": [],
   "source": [
    "def run_part1():\n",
    "    grid, start_loc = find_start()\n",
    "    result = 0\n",
    "    reachable_places = [(start_loc, 0)]\n",
    "    visited = set()\n",
    "    \n",
    "    while len(reachable_places) > 0:\n",
    "        loc, i = reachable_places.pop(0)\n",
    "        row, col = loc\n",
    "        if (row, col) in visited:\n",
    "            continue\n",
    "        visited.add((row, col))\n",
    "        result = max(result, i)\n",
    "        for neighbor in get_neighbors(grid, row, col):\n",
    "            reachable_places.append((neighbor, i + 1))\n",
    "    print(result)"
   ]
  },
  {
   "cell_type": "code",
   "execution_count": 6,
   "id": "73894d4a-e94c-4d21-bae4-186db4235d64",
   "metadata": {},
   "outputs": [
    {
     "name": "stdout",
     "output_type": "stream",
     "text": [
      "8\n"
     ]
    }
   ],
   "source": [
    "run_part1()"
   ]
  },
  {
   "cell_type": "code",
   "execution_count": null,
   "id": "b6492b0e-8e30-48f6-bacb-64039e1ae43e",
   "metadata": {},
   "outputs": [],
   "source": []
  }
 ],
 "metadata": {
  "kernelspec": {
   "display_name": "Python 3 (ipykernel)",
   "language": "python",
   "name": "python3"
  },
  "language_info": {
   "codemirror_mode": {
    "name": "ipython",
    "version": 3
   },
   "file_extension": ".py",
   "mimetype": "text/x-python",
   "name": "python",
   "nbconvert_exporter": "python",
   "pygments_lexer": "ipython3",
   "version": "3.9.2"
  }
 },
 "nbformat": 4,
 "nbformat_minor": 5
}
