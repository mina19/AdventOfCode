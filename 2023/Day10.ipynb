{
 "cells": [
  {
   "cell_type": "markdown",
   "id": "9c1ce452-dc5e-45fe-ae10-a3482f2c9f2c",
   "metadata": {},
   "source": [
    "# Day 10"
   ]
  },
  {
   "cell_type": "markdown",
   "id": "b3d863d9-f85c-4a64-81b9-3f6236aaf2f4",
   "metadata": {},
   "source": [
    "## Part 1"
   ]
  },
  {
   "cell_type": "markdown",
   "id": "47a892a3-cfe8-4a47-8a30-0f6a6784bf9f",
   "metadata": {},
   "source": [
    "\"|\" is a vertical pipe connecting north and south.\n",
    "\n",
    "\"-\" is a horizontal pipe connecting east and west.\n",
    "\n",
    "\"L\" is a 90-degree bend connecting north and east.\n",
    "\n",
    "\"J\" is a 90-degree bend connecting north and west.\n",
    "\n",
    "\"7\" is a 90-degree bend connecting south and west.\n",
    "\n",
    "\"F\" is a 90-degree bend connecting south and east.\n",
    "\n",
    "\".\" is ground; there is no pipe in this tile.\n",
    "\n",
    "\"S\" is the starting position of the animal; there is a pipe on this tile, but your sketch doesn't show what shape the pipe has."
   ]
  },
  {
   "cell_type": "code",
   "execution_count": 1,
   "id": "490ac7db-4e13-4bec-bb5c-27941965dd0c",
   "metadata": {},
   "outputs": [],
   "source": [
    "# lines = [line.rstrip() for line in open('day10_input.txt')]\n",
    "lines = [line.rstrip() for line in open('day10_sample.txt')]"
   ]
  },
  {
   "cell_type": "code",
   "execution_count": 2,
   "id": "46b1c2a3-65fa-4ece-a80c-0fd89d7237ea",
   "metadata": {},
   "outputs": [],
   "source": [
    "def find_start():\n",
    "    grid = []\n",
    "    \n",
    "    for i,line in enumerate(lines):\n",
    "        grid.append(list(line))\n",
    "        if \"S\" in line:\n",
    "            start_loc = (i, line.index(\"S\"))\n",
    "    return grid, start_loc"
   ]
  },
  {
   "cell_type": "code",
   "execution_count": 3,
   "id": "d588e37f-f577-459a-8402-e6c510e40c57",
   "metadata": {},
   "outputs": [],
   "source": [
    "def has_connection(grid, row, col, direction):\n",
    "    pipe = grid[row][col]\n",
    "    if direction == \"north\":\n",
    "        return pipe in [\"S\", \"|\", \"L\", \"J\"]\n",
    "    elif direction == \"east\":\n",
    "        return pipe in [\"S\", \"-\", \"L\", \"F\"]\n",
    "    elif direction == \"west\":\n",
    "        return pipe in [\"S\", \"-\", \"J\", \"7\"]\n",
    "    elif direction == \"south\":\n",
    "        return pipe in [\"S\", \"|\", \"F\", \"7\"]"
   ]
  },
  {
   "cell_type": "code",
   "execution_count": 4,
   "id": "899248dc-1fee-4cee-97f6-4e1af858f7c0",
   "metadata": {},
   "outputs": [],
   "source": [
    "def get_neighbors(grid, row, col):\n",
    "    neighbors = []\n",
    "    if row > 0 and has_connection(grid, row, col, \"north\"):\n",
    "        if has_connection(grid, row - 1, col, \"south\"):\n",
    "            neighbors.append((row - 1, col))\n",
    "    if col > 0 and has_connection(grid, row, col, \"west\"):\n",
    "        if has_connection(grid, row, col - 1, \"east\"):\n",
    "            neighbors.append((row, col - 1))\n",
    "    if row < len(grid) - 1 and has_connection(grid, row, col, \"south\"):\n",
    "        if has_connection(grid, row + 1, col, \"north\"):\n",
    "            neighbors.append((row + 1, col))\n",
    "    if col < len(grid[0]) - 1 and has_connection(grid, row, col, \"east\"):\n",
    "        if has_connection(grid, row, col + 1, \"west\"):\n",
    "            neighbors.append((row, col + 1))\n",
    "    return neighbors"
   ]
  },
  {
   "cell_type": "code",
   "execution_count": 5,
   "id": "c895e7b2-b82f-43cc-a3ce-7556a47b8b54",
   "metadata": {},
   "outputs": [],
   "source": [
    "def run_part1():\n",
    "    grid, start_loc = find_start()\n",
    "    result = 0\n",
    "    last_reached_places = [(start_loc, 0)]\n",
    "    visited = set()\n",
    "    \n",
    "    while len(last_reached_places) > 0:\n",
    "        loc, i = last_reached_places.pop(0)\n",
    "        row, col = loc\n",
    "        if (row, col) in visited:\n",
    "            continue\n",
    "        visited.add((row, col))\n",
    "        result = max(result, i)\n",
    "        for neighbor in get_neighbors(grid, row, col):\n",
    "            last_reached_places.append((neighbor, i + 1))\n",
    "    print(result)"
   ]
  },
  {
   "cell_type": "code",
   "execution_count": 6,
   "id": "73894d4a-e94c-4d21-bae4-186db4235d64",
   "metadata": {},
   "outputs": [
    {
     "name": "stdout",
     "output_type": "stream",
     "text": [
      "8\n"
     ]
    }
   ],
   "source": [
    "run_part1()"
   ]
  },
  {
   "cell_type": "markdown",
   "id": "52ca6983-8d04-4b74-a12a-06c18c27902b",
   "metadata": {},
   "source": [
    "## Part 2"
   ]
  },
  {
   "cell_type": "code",
   "execution_count": 7,
   "id": "edfaadaa-8052-4287-951b-4188df3a1d1d",
   "metadata": {},
   "outputs": [],
   "source": [
    "# lines = [line.rstrip() for line in open('day10_input.txt')]\n",
    "lines = [line.rstrip() for line in open('day10_sample2.txt')]"
   ]
  },
  {
   "cell_type": "code",
   "execution_count": 8,
   "id": "1f6628b8-8931-434a-9849-15a152613caf",
   "metadata": {},
   "outputs": [],
   "source": [
    "def print_grid(grid):\n",
    "    for i in range(len(grid)):\n",
    "        row = \"\"\n",
    "        for j in range(len(grid[i])):\n",
    "            row += grid[i][j]\n",
    "        print(row)"
   ]
  },
  {
   "cell_type": "code",
   "execution_count": 9,
   "id": "d364ca7b-403e-4fd2-aaa4-503bfa17398b",
   "metadata": {},
   "outputs": [],
   "source": [
    "def expand_grid(lines):\n",
    "    grid = []\n",
    "    for i, line in enumerate(lines):\n",
    "        top, mid, bot = \"#\", \"#\", \"#\"\n",
    "        for ch in line:\n",
    "            if ch == \"S\":\n",
    "                top += \"...\"\n",
    "                mid += \".S.\"\n",
    "                bot += \"...\"\n",
    "            elif ch == \".\":\n",
    "                top += \"...\"\n",
    "                mid += \"...\"\n",
    "                bot += \"...\"\n",
    "            elif ch == \"L\":\n",
    "                top += \".|.\"\n",
    "                mid += \".L-\"\n",
    "                bot += \"...\"\n",
    "            elif ch == \"J\":\n",
    "                top += \".|.\"\n",
    "                mid += \"-J.\"\n",
    "                bot += \"...\"\n",
    "            elif ch == \"F\":\n",
    "                top += \"...\"\n",
    "                mid += \".F-\"\n",
    "                bot += \".|.\"\n",
    "            elif ch == \"7\":\n",
    "                top += \"...\"\n",
    "                mid += \"-7.\"\n",
    "                bot += \".|.\"\n",
    "            elif ch == \"-\":\n",
    "                top += \"...\"\n",
    "                mid += \"---\"\n",
    "                bot += \"...\"\n",
    "            elif ch == \"|\":\n",
    "                top += \".|.\"\n",
    "                mid += \".|.\"\n",
    "                bot += \".|.\"\n",
    "        top += \"#\"\n",
    "        mid += \"#\"\n",
    "        bot += \"#\"\n",
    "        grid.append(list(top))\n",
    "        grid.append(list(mid))\n",
    "        grid.append(list(bot))\n",
    "    \n",
    "    grid.insert(0, [\"#\"] * len(grid[0]))\n",
    "    grid.append([\"#\"] * len(grid[0]))\n",
    "    \n",
    "    return grid"
   ]
  },
  {
   "cell_type": "code",
   "execution_count": 10,
   "id": "4380ae20-05a3-4a31-a64c-62619b366c53",
   "metadata": {},
   "outputs": [],
   "source": [
    "def fill_s(grid):\n",
    "    for row in range(len(grid)):\n",
    "        for col in range(len(grid[row])):\n",
    "            if grid[row][col] == \"S\":\n",
    "                start_loc = (row, col)\n",
    "                d = [(0, 1), (1, 0), (0, -1), (-1, 0)]\n",
    "                for drow, dcol in d:\n",
    "                    try:\n",
    "                        if grid[row + drow * 2][col + dcol * 2] != \".\" and grid[row + drow * 2][col + dcol * 2] != \"#\":\n",
    "                            grid[row + drow][col + dcol] = \"S\"\n",
    "                    except:\n",
    "                        pass\n",
    "                return grid, start_loc"
   ]
  },
  {
   "cell_type": "code",
   "execution_count": 11,
   "id": "827b9cc9-4b21-4f73-aa3f-328971a2c313",
   "metadata": {},
   "outputs": [],
   "source": [
    "def find_pipe_in_loop(start_loc, grid):\n",
    "    queue = [start_loc]\n",
    "    border = set()\n",
    "    while len(queue) > 0:\n",
    "        loc = queue.pop(0)\n",
    "        row, col = loc\n",
    "        if (row, col) in border:\n",
    "            continue\n",
    "        border.add((row, col))\n",
    "        d = [(0, 1), (1, 0), (0, -1), (-1, 0)]\n",
    "        for drow, dcol in d:\n",
    "            neighbor = (row + drow, col + dcol)\n",
    "            if neighbor[0] >= 0 and neighbor[0] < len(grid) and neighbor[1] >= 0 and neighbor[1] < len(grid[0]):\n",
    "                if grid[neighbor[0]][neighbor[1]] != \".\":\n",
    "                    queue.append(neighbor)\n",
    "\n",
    "    return queue, border"
   ]
  },
  {
   "cell_type": "code",
   "execution_count": 12,
   "id": "48eac81f-221f-47ce-bdb9-cbb21b97dda8",
   "metadata": {},
   "outputs": [],
   "source": [
    "def run_part2():\n",
    "    # lines = [line.rstrip() for line in open('day10_input.txt')]\n",
    "    lines = [line.rstrip() for line in open('day10_sample2.txt')]\n",
    "    \n",
    "    grid = expand_grid(lines)\n",
    "    grid, start_loc = fill_s(grid)\n",
    "    # print_grid(grid)\n",
    "    \n",
    "    queue, border = find_pipe_in_loop(start_loc, grid)\n",
    "\n",
    "    def border_grid(grid, border):\n",
    "        new_grid = []\n",
    "        for i in range(len(grid)):\n",
    "            row = \"\"\n",
    "            for j in range(len(grid[i])):\n",
    "                if (i, j) in border:\n",
    "                    row += \"X\"\n",
    "                else:\n",
    "                    row += grid[i][j]\n",
    "            new_grid.append(row)\n",
    "        return new_grid\n",
    "\n",
    "    borders = border_grid(grid, border)\n",
    "    # print_grid(borders)\n",
    "    \n",
    "    def run_bfs(row, col):\n",
    "        queue = [(row, col)]\n",
    "        visited = set()\n",
    "        while len(queue) > 0:\n",
    "            loc = queue.pop(0)\n",
    "            row, col = loc\n",
    "            if (row, col) in visited:\n",
    "                continue\n",
    "            visited.add((row, col))\n",
    "            d = [(0, 1), (1, 0), (0, -1), (-1, 0)]\n",
    "            for drow, dcol in d:\n",
    "                neighbor = (row + drow, col + dcol)\n",
    "                if neighbor[0] >= 0 and neighbor[0] < len(grid) and neighbor[1] >= 0 and neighbor[1] < len(grid[0]):\n",
    "                    if grid[neighbor[0]][neighbor[1]] == \"#\":\n",
    "                        return {\"border\"}\n",
    "                    if neighbor not in border:\n",
    "                        queue.append(neighbor)\n",
    "        return set()\n",
    "    \n",
    "    count = 0\n",
    "    enclosed = []\n",
    "    orig_rows = len(lines)\n",
    "    orig_cols = len(lines[0])\n",
    "    \n",
    "    for i in range(orig_rows):\n",
    "        for j in range(orig_cols):\n",
    "            coords = (i * 3 + 2, j * 3 + 2)\n",
    "            if coords in border:\n",
    "                continue\n",
    "            if run_bfs(coords[0], coords[1]) == {\"border\"}:\n",
    "                continue\n",
    "            enclosed.append(coords)\n",
    "            count += 1\n",
    "    \n",
    "    def final_grid(grid):\n",
    "        new_grid = []\n",
    "        for i in range(len(grid)):\n",
    "            row = \"\"\n",
    "            for j in range(len(grid[i])):\n",
    "                if (i, j) in enclosed:\n",
    "                    row += \"I\"\n",
    "                elif (i, j) in border:\n",
    "                    row += \"X\"\n",
    "                else:\n",
    "                    row += grid[i][j]\n",
    "            new_grid.append(row)\n",
    "        return new_grid\n",
    "    \n",
    "    new_grid = final_grid(grid)\n",
    "    # print_grid(new_grid)\n",
    "    \n",
    "    return count"
   ]
  },
  {
   "cell_type": "code",
   "execution_count": 13,
   "id": "70799297-d15e-4862-8953-7fea32e4242b",
   "metadata": {},
   "outputs": [
    {
     "data": {
      "text/plain": [
       "8"
      ]
     },
     "execution_count": 13,
     "metadata": {},
     "output_type": "execute_result"
    }
   ],
   "source": [
    "run_part2()"
   ]
  },
  {
   "cell_type": "code",
   "execution_count": null,
   "id": "0727f2f2-98c6-410a-8000-6518e2d38480",
   "metadata": {},
   "outputs": [],
   "source": []
  },
  {
   "cell_type": "code",
   "execution_count": null,
   "id": "aebbc9e0-b57d-43c5-a6d7-f9911ea705d8",
   "metadata": {},
   "outputs": [],
   "source": []
  }
 ],
 "metadata": {
  "kernelspec": {
   "display_name": "Python 3 (ipykernel)",
   "language": "python",
   "name": "python3"
  },
  "language_info": {
   "codemirror_mode": {
    "name": "ipython",
    "version": 3
   },
   "file_extension": ".py",
   "mimetype": "text/x-python",
   "name": "python",
   "nbconvert_exporter": "python",
   "pygments_lexer": "ipython3",
   "version": "3.9.2"
  }
 },
 "nbformat": 4,
 "nbformat_minor": 5
}
