{
 "cells": [
  {
   "cell_type": "markdown",
   "id": "6f4d47a0-05a6-4c2e-8c83-a6cece300268",
   "metadata": {},
   "source": [
    "# Day 11"
   ]
  },
  {
   "cell_type": "markdown",
   "id": "1e0168dc-d740-40db-8cc5-8440edaba880",
   "metadata": {},
   "source": [
    "## Part 1"
   ]
  },
  {
   "cell_type": "code",
   "execution_count": 17,
   "id": "adc16d91-c6fe-4599-8e81-999196c5a6ed",
   "metadata": {},
   "outputs": [],
   "source": [
    "# lines = [line.rstrip() for line in open('day11_input.txt')]\n",
    "lines = [line.rstrip() for line in open('day11_sample.txt')]"
   ]
  },
  {
   "cell_type": "code",
   "execution_count": 18,
   "id": "1361d5a9-4946-4ec2-af74-267fcaf0b5c3",
   "metadata": {},
   "outputs": [],
   "source": [
    "def transpose_lines(lines):\n",
    "    t_lines = [[lines[j][i] for j in range(len(lines))] for i in range(len(lines[0]))]\n",
    "    transposed_lines = [''.join(line) for line in t_lines]\n",
    "    return transposed_lines"
   ]
  },
  {
   "cell_type": "code",
   "execution_count": 19,
   "id": "8dac4fa2-a149-4300-845d-c0ccf0be1385",
   "metadata": {},
   "outputs": [],
   "source": [
    "def determine_empty_rows(lines):\n",
    "    empty_rows = []\n",
    "    for i, line in enumerate(lines):\n",
    "        if set(line) == {'.'}:\n",
    "            empty_rows.append(i)\n",
    "    return empty_rows"
   ]
  },
  {
   "cell_type": "code",
   "execution_count": 20,
   "id": "02f9b500-2809-41f2-9a09-4fe9f5a9ef04",
   "metadata": {},
   "outputs": [],
   "source": [
    "def add_empty_space(lines, empty_rows, empty_columns):\n",
    "    expanded_lines = lines.copy()\n",
    "    for i,row in enumerate(empty_rows):\n",
    "        expanded_lines.insert(row+i, '.'*len(lines[0]))\n",
    "    expanded_lines_t = transpose_lines(expanded_lines)\n",
    "    for i,col in enumerate(empty_columns):\n",
    "        expanded_lines_t.insert(col+i, '.'*len(expanded_lines_t[0]))\n",
    "    expanded_lines = transpose_lines(expanded_lines_t)\n",
    "    return expanded_lines"
   ]
  },
  {
   "cell_type": "code",
   "execution_count": 161,
   "id": "76e8d604-efcc-44e4-b040-25bf4805381e",
   "metadata": {},
   "outputs": [],
   "source": [
    "import itertools\n",
    "\n",
    "def number_galaxies(lines):\n",
    "    lines_transposed = transpose_lines(lines)\n",
    "    empty_rows = determine_empty_rows(lines)\n",
    "    empty_columns = determine_empty_rows(lines_transposed)\n",
    "    expanded_lines = add_empty_space(lines, empty_rows, empty_columns)\n",
    "    \n",
    "    tot_num_galaxies = sum([line.count('#') for line in lines])\n",
    "    galaxy_grid = [[char for char in line] for line in expanded_lines]\n",
    "    galaxy_locations = []\n",
    "    galaxy_numbers = [i+1 for i in range(tot_num_galaxies)]\n",
    "\n",
    "    for row,line in enumerate(galaxy_grid):\n",
    "        num_galaxies = line.count('#')\n",
    "        for i in range(num_galaxies):\n",
    "            galaxy_number = galaxy_numbers.pop(0)\n",
    "            g = [index for index, el in enumerate(line) if el == '#']\n",
    "            for galaxy in g[i:i+1]:\n",
    "                if (row, galaxy) not in galaxy_locations:\n",
    "                    galaxy_locations.append((galaxy_number,(row, galaxy)))\n",
    "\n",
    "    shortest_distances = []\n",
    "    for i,pair in enumerate(itertools.combinations([j+1 for j in range(tot_num_galaxies)],2)):\n",
    "        galaxy1, galaxy2 = pair[0], pair[1]\n",
    "        location1, location2 = galaxy_locations[galaxy1-1][1], galaxy_locations[galaxy2-1][1]\n",
    "        total_distance = abs(location2[1] - location1[1]) + abs(location2[0] - location1[0])\n",
    "        shortest_distances.append(total_distance)\n",
    "\n",
    "    return sum(shortest_distances)"
   ]
  },
  {
   "cell_type": "code",
   "execution_count": 162,
   "id": "30372ffe-171a-4c32-8664-5d623b6ebc79",
   "metadata": {},
   "outputs": [
    {
     "data": {
      "text/plain": [
       "374"
      ]
     },
     "execution_count": 162,
     "metadata": {},
     "output_type": "execute_result"
    }
   ],
   "source": [
    "number_galaxies(lines)"
   ]
  },
  {
   "cell_type": "code",
   "execution_count": null,
   "id": "89963800-65c1-49f2-99f9-a9296ca435ab",
   "metadata": {},
   "outputs": [],
   "source": []
  }
 ],
 "metadata": {
  "kernelspec": {
   "display_name": "Python 3 (ipykernel)",
   "language": "python",
   "name": "python3"
  },
  "language_info": {
   "codemirror_mode": {
    "name": "ipython",
    "version": 3
   },
   "file_extension": ".py",
   "mimetype": "text/x-python",
   "name": "python",
   "nbconvert_exporter": "python",
   "pygments_lexer": "ipython3",
   "version": "3.9.2"
  }
 },
 "nbformat": 4,
 "nbformat_minor": 5
}
