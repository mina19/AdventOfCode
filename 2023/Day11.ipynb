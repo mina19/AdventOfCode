{
 "cells": [
  {
   "cell_type": "markdown",
   "id": "6f4d47a0-05a6-4c2e-8c83-a6cece300268",
   "metadata": {},
   "source": [
    "# Day 11"
   ]
  },
  {
   "cell_type": "markdown",
   "id": "1e0168dc-d740-40db-8cc5-8440edaba880",
   "metadata": {},
   "source": [
    "## Part 1"
   ]
  },
  {
   "cell_type": "code",
   "execution_count": 1,
   "id": "adc16d91-c6fe-4599-8e81-999196c5a6ed",
   "metadata": {},
   "outputs": [],
   "source": [
    "# lines = [line.rstrip() for line in open('day11_input.txt')]\n",
    "lines = [line.rstrip() for line in open('day11_sample.txt')]"
   ]
  },
  {
   "cell_type": "code",
   "execution_count": 2,
   "id": "1361d5a9-4946-4ec2-af74-267fcaf0b5c3",
   "metadata": {},
   "outputs": [],
   "source": [
    "def transpose_lines(lines):\n",
    "    t_lines = [[lines[j][i] for j in range(len(lines))] for i in range(len(lines[0]))]\n",
    "    transposed_lines = [''.join(line) for line in t_lines]\n",
    "    return transposed_lines"
   ]
  },
  {
   "cell_type": "code",
   "execution_count": 3,
   "id": "8dac4fa2-a149-4300-845d-c0ccf0be1385",
   "metadata": {},
   "outputs": [],
   "source": [
    "def determine_empty_rows(lines):\n",
    "    empty_rows = []\n",
    "    for i, line in enumerate(lines):\n",
    "        if set(line) == {'.'}:\n",
    "            empty_rows.append(i)\n",
    "    return empty_rows"
   ]
  },
  {
   "cell_type": "code",
   "execution_count": 4,
   "id": "02f9b500-2809-41f2-9a09-4fe9f5a9ef04",
   "metadata": {},
   "outputs": [],
   "source": [
    "def add_empty_space(lines, empty_rows, empty_columns):\n",
    "    expanded_lines = lines.copy()\n",
    "    for i,row in enumerate(empty_rows):\n",
    "        expanded_lines.insert(row+i, '.'*len(lines[0]))\n",
    "    expanded_lines_t = transpose_lines(expanded_lines)\n",
    "    for i,col in enumerate(empty_columns):\n",
    "        expanded_lines_t.insert(col+i, '.'*len(expanded_lines_t[0]))\n",
    "    expanded_lines = transpose_lines(expanded_lines_t)\n",
    "    return expanded_lines"
   ]
  },
  {
   "cell_type": "code",
   "execution_count": 5,
   "id": "76e8d604-efcc-44e4-b040-25bf4805381e",
   "metadata": {},
   "outputs": [],
   "source": [
    "import itertools\n",
    "\n",
    "def number_galaxies(lines):\n",
    "    lines_transposed = transpose_lines(lines)\n",
    "    empty_rows = determine_empty_rows(lines)\n",
    "    empty_columns = determine_empty_rows(lines_transposed)\n",
    "    expanded_lines = add_empty_space(lines, empty_rows, empty_columns)\n",
    "    \n",
    "    tot_num_galaxies = sum([line.count('#') for line in lines])\n",
    "    galaxy_grid = [[char for char in line] for line in expanded_lines]\n",
    "    galaxy_locations = []\n",
    "    galaxy_numbers = [i+1 for i in range(tot_num_galaxies)]\n",
    "\n",
    "    for row,line in enumerate(galaxy_grid):\n",
    "        num_galaxies = line.count('#')\n",
    "        for i in range(num_galaxies):\n",
    "            galaxy_number = galaxy_numbers.pop(0)\n",
    "            g = [index for index, el in enumerate(line) if el == '#']\n",
    "            for galaxy in g[i:i+1]:\n",
    "                if (row, galaxy) not in galaxy_locations:\n",
    "                    galaxy_locations.append((galaxy_number,(row, galaxy)))\n",
    "\n",
    "    shortest_distances = []\n",
    "    for i,pair in enumerate(itertools.combinations([j+1 for j in range(tot_num_galaxies)],2)):\n",
    "        galaxy1, galaxy2 = pair[0], pair[1]\n",
    "        location1, location2 = galaxy_locations[galaxy1-1][1], galaxy_locations[galaxy2-1][1]\n",
    "        total_distance = abs(location2[1] - location1[1]) + abs(location2[0] - location1[0])\n",
    "        shortest_distances.append(total_distance)\n",
    "\n",
    "    return sum(shortest_distances)"
   ]
  },
  {
   "cell_type": "code",
   "execution_count": 6,
   "id": "30372ffe-171a-4c32-8664-5d623b6ebc79",
   "metadata": {},
   "outputs": [
    {
     "data": {
      "text/plain": [
       "374"
      ]
     },
     "execution_count": 6,
     "metadata": {},
     "output_type": "execute_result"
    }
   ],
   "source": [
    "number_galaxies(lines)"
   ]
  },
  {
   "cell_type": "markdown",
   "id": "231a547a-e553-48d6-901a-fcca176fbca4",
   "metadata": {},
   "source": [
    "## Part 2"
   ]
  },
  {
   "cell_type": "code",
   "execution_count": 7,
   "id": "181009d7-00b8-48d9-a1ba-27089c68dd3e",
   "metadata": {},
   "outputs": [],
   "source": [
    "def add_big_empty_space(lines, empty_rows, empty_columns):\n",
    "    expanded_lines = lines.copy()\n",
    "    for i,row in enumerate(empty_rows):\n",
    "        expanded_lines.insert(row+i, '!' * len(lines[0]))\n",
    "    expanded_lines_t = transpose_lines(expanded_lines)\n",
    "    for i,col in enumerate(empty_columns):\n",
    "        expanded_lines_t.insert(col+i+1,'!' * len(expanded_lines_t[0]))\n",
    "    expanded_lines = transpose_lines(expanded_lines_t)\n",
    "    return expanded_lines"
   ]
  },
  {
   "cell_type": "code",
   "execution_count": 8,
   "id": "3ad95e96-1289-49cc-a093-8c0dc24c9039",
   "metadata": {},
   "outputs": [],
   "source": [
    "def number_galaxies2(lines, spacing):\n",
    "    lines_transposed = transpose_lines(lines)\n",
    "    empty_rows = determine_empty_rows(lines)\n",
    "    empty_columns = determine_empty_rows(lines_transposed)\n",
    "    expanded_lines = add_big_empty_space(lines, empty_rows, empty_columns)\n",
    "    \n",
    "    tot_num_galaxies = sum([line.count('#') for line in lines])\n",
    "    galaxy_grid = [[char for char in line] for line in expanded_lines]\n",
    "    galaxy_locations = []\n",
    "    galaxy_numbers = [i+1 for i in range(tot_num_galaxies)]\n",
    "\n",
    "    for row,line in enumerate(galaxy_grid):\n",
    "        num_galaxies = line.count('#')\n",
    "        for i in range(num_galaxies):\n",
    "            galaxy_number = galaxy_numbers.pop(0)\n",
    "            g = (index for index, el in enumerate(line) if el == '#')\n",
    "            line[next(g)] = galaxy_number\n",
    "\n",
    "    # for line in galaxy_grid:\n",
    "    #     newline = [str(char) for char in line]\n",
    "    #     newline = ''.join(newline)\n",
    "    #     print(newline)\n",
    "    \n",
    "    lookup_cache = {}\n",
    "    def lookup(galaxy_grid, galaxy_num):\n",
    "        if galaxy_num in lookup_cache:\n",
    "            return lookup_cache[galaxy_num]\n",
    "        for row in range(len(galaxy_grid)):\n",
    "            for col in range(len(galaxy_grid[row])):\n",
    "                if galaxy_grid[row][col] == galaxy_num:\n",
    "                    lookup_cache[galaxy_num] = (row, col)\n",
    "                    return (row, col)\n",
    "        return None\n",
    "\n",
    "    shortest_distances = []\n",
    "    for i, pair in enumerate(itertools.combinations([j+1 for j in range(tot_num_galaxies)],2)):\n",
    "        galaxy1, galaxy2 = pair[0], pair[1]\n",
    "        pos1 = lookup(galaxy_grid, galaxy1)\n",
    "        pos2 = lookup(galaxy_grid, galaxy2)\n",
    "\n",
    "        dist = abs(pos1[0] - pos2[0]) + abs(pos1[1] - pos2[1])\n",
    "            \n",
    "        for row in range(min(pos1[0], pos2[0]), max(pos1[0], pos2[0]) + 1):\n",
    "            if galaxy_grid[row][0] == \"!\":\n",
    "                dist += spacing - 2\n",
    "        for col in range(min(pos1[1], pos2[1]), max(pos1[1], pos2[1]) + 1):\n",
    "            if galaxy_grid[0][col] == \"!\":\n",
    "                dist += spacing - 2\n",
    "\n",
    "        shortest_distances.append(dist)\n",
    "\n",
    "    return sum(shortest_distances)"
   ]
  },
  {
   "cell_type": "code",
   "execution_count": 9,
   "id": "563f7bd5-f5e3-4075-9cec-fa299297ec75",
   "metadata": {},
   "outputs": [
    {
     "data": {
      "text/plain": [
       "1030"
      ]
     },
     "execution_count": 9,
     "metadata": {},
     "output_type": "execute_result"
    }
   ],
   "source": [
    "number_galaxies2(lines, 10)"
   ]
  },
  {
   "cell_type": "code",
   "execution_count": null,
   "id": "e10aa8fb-83c6-4fdf-9623-721f001787d6",
   "metadata": {},
   "outputs": [],
   "source": []
  }
 ],
 "metadata": {
  "kernelspec": {
   "display_name": "Python 3 (ipykernel)",
   "language": "python",
   "name": "python3"
  },
  "language_info": {
   "codemirror_mode": {
    "name": "ipython",
    "version": 3
   },
   "file_extension": ".py",
   "mimetype": "text/x-python",
   "name": "python",
   "nbconvert_exporter": "python",
   "pygments_lexer": "ipython3",
   "version": "3.9.2"
  }
 },
 "nbformat": 4,
 "nbformat_minor": 5
}
