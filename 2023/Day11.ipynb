{
 "cells": [
  {
   "cell_type": "markdown",
   "id": "6f4d47a0-05a6-4c2e-8c83-a6cece300268",
   "metadata": {},
   "source": [
    "# Day 11"
   ]
  },
  {
   "cell_type": "markdown",
   "id": "1e0168dc-d740-40db-8cc5-8440edaba880",
   "metadata": {},
   "source": [
    "## Part 1"
   ]
  },
  {
   "cell_type": "code",
   "execution_count": 57,
   "id": "adc16d91-c6fe-4599-8e81-999196c5a6ed",
   "metadata": {},
   "outputs": [],
   "source": [
    "# lines = [line.rstrip() for line in open('day11_input.txt')]\n",
    "lines = [line.rstrip() for line in open('day11_sample.txt')]"
   ]
  },
  {
   "cell_type": "code",
   "execution_count": 58,
   "id": "1361d5a9-4946-4ec2-af74-267fcaf0b5c3",
   "metadata": {},
   "outputs": [],
   "source": [
    "def transpose_lines(lines):\n",
    "    t_lines = [[lines[j][i] for j in range(len(lines))] for i in range(len(lines[0]))]\n",
    "    transposed_lines = [''.join(line) for line in t_lines]\n",
    "    return transposed_lines"
   ]
  },
  {
   "cell_type": "code",
   "execution_count": 59,
   "id": "e0950680-96ef-4ad0-bc9a-dba0caa83a71",
   "metadata": {},
   "outputs": [],
   "source": [
    "lines_transposed = transpose_lines(lines)"
   ]
  },
  {
   "cell_type": "code",
   "execution_count": 60,
   "id": "8dac4fa2-a149-4300-845d-c0ccf0be1385",
   "metadata": {},
   "outputs": [],
   "source": [
    "def determine_empty_rows(lines):\n",
    "    empty_rows = []\n",
    "    for i, line in enumerate(lines):\n",
    "        if set(line) == {'.'}:\n",
    "            empty_rows.append(i)\n",
    "    return empty_rows"
   ]
  },
  {
   "cell_type": "code",
   "execution_count": 61,
   "id": "15d9d975-0ffc-435f-8fa3-4a7031f6834d",
   "metadata": {},
   "outputs": [],
   "source": [
    "empty_rows = determine_empty_rows(lines)\n",
    "empty_columns = determine_empty_rows(lines_transposed)"
   ]
  },
  {
   "cell_type": "code",
   "execution_count": 62,
   "id": "02f9b500-2809-41f2-9a09-4fe9f5a9ef04",
   "metadata": {},
   "outputs": [],
   "source": [
    "def add_empty_space(lines, empty_rows, empty_columns):\n",
    "    expanded_lines = lines.copy()\n",
    "    for i,row in enumerate(empty_rows):\n",
    "        expanded_lines.insert(row+i, '.'*len(lines[0]))\n",
    "    expanded_lines_t = transpose_lines(expanded_lines)\n",
    "    for i,col in enumerate(empty_columns):\n",
    "        expanded_lines_t.insert(col+i, '.'*len(expanded_lines_t[0]))\n",
    "    expanded_lines = transpose_lines(expanded_lines_t)\n",
    "    return expanded_lines"
   ]
  },
  {
   "cell_type": "code",
   "execution_count": 64,
   "id": "883016fe-5d1b-427c-9b4a-838354967b53",
   "metadata": {},
   "outputs": [],
   "source": [
    "expanded_lines = add_empty_space(lines, empty_rows, empty_columns)"
   ]
  },
  {
   "cell_type": "code",
   "execution_count": 65,
   "id": "7d38dc9b-8dcb-4f08-9396-8d343aa367b1",
   "metadata": {},
   "outputs": [
    {
     "name": "stdout",
     "output_type": "stream",
     "text": [
      "...#......\n",
      ".......#..\n",
      "#.........\n",
      "..........\n",
      "......#...\n",
      ".#........\n",
      ".........#\n",
      "..........\n",
      ".......#..\n",
      "#...#.....\n"
     ]
    }
   ],
   "source": [
    "for line in lines:\n",
    "    print(line)"
   ]
  },
  {
   "cell_type": "code",
   "execution_count": 66,
   "id": "ec33a706-3fef-4759-96e0-0918d73393a2",
   "metadata": {},
   "outputs": [
    {
     "name": "stdout",
     "output_type": "stream",
     "text": [
      "....#........\n",
      ".........#...\n",
      "#............\n",
      ".............\n",
      ".............\n",
      "........#....\n",
      ".#...........\n",
      "............#\n",
      ".............\n",
      ".............\n",
      ".........#...\n",
      "#....#.......\n"
     ]
    }
   ],
   "source": [
    "for line in expanded_lines:\n",
    "    print(line)"
   ]
  },
  {
   "cell_type": "code",
   "execution_count": null,
   "id": "76e8d604-efcc-44e4-b040-25bf4805381e",
   "metadata": {},
   "outputs": [],
   "source": []
  }
 ],
 "metadata": {
  "kernelspec": {
   "display_name": "Python 3 (ipykernel)",
   "language": "python",
   "name": "python3"
  },
  "language_info": {
   "codemirror_mode": {
    "name": "ipython",
    "version": 3
   },
   "file_extension": ".py",
   "mimetype": "text/x-python",
   "name": "python",
   "nbconvert_exporter": "python",
   "pygments_lexer": "ipython3",
   "version": "3.9.2"
  }
 },
 "nbformat": 4,
 "nbformat_minor": 5
}
