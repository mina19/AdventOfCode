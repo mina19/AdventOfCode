{
 "cells": [
  {
   "cell_type": "markdown",
   "id": "42c02dd0-7f21-45b6-9768-ad0b691ea610",
   "metadata": {},
   "source": [
    "# Day 8"
   ]
  },
  {
   "cell_type": "markdown",
   "id": "8d3added-d1f9-4e33-8270-477857d95a93",
   "metadata": {},
   "source": [
    "## Part 1"
   ]
  },
  {
   "cell_type": "code",
   "execution_count": 62,
   "id": "10bf4df0-a1cc-4681-b245-71792955588d",
   "metadata": {},
   "outputs": [],
   "source": [
    "lines = [line.rstrip() for line in open('day8_input.txt')]\n",
    "# lines = [line.rstrip() for line in open('day8_sample.txt')]\n",
    "# lines = [line.rstrip() for line in open('day8_sample2.txt')]"
   ]
  },
  {
   "cell_type": "code",
   "execution_count": 63,
   "id": "de9275c1-57b6-472f-ab30-8a6e5942e790",
   "metadata": {},
   "outputs": [],
   "source": [
    "instructions = lines[0]\n",
    "instructions = [1 if el=='R' else 0 for el in instructions]\n",
    "\n",
    "map = lines[2:]\n",
    "map_keys = [line.split(' = ')[0] for line in map]\n",
    "map_values = [line.split(' = ')[1] for line in map]\n",
    "map_values = [(value[1:4], value[6:9]) for value in map_values]\n",
    "map = dict(zip(map_keys, map_values))"
   ]
  },
  {
   "cell_type": "code",
   "execution_count": 64,
   "id": "e5a1143c-9bec-46f6-8610-5b36a2104d67",
   "metadata": {},
   "outputs": [],
   "source": [
    "def use_map(key):\n",
    "    for direction in instructions:\n",
    "        key = map[key][direction]\n",
    "    return key\n",
    "\n",
    "def use_map_instructions():\n",
    "    # Return last locations after using map instructions\n",
    "    start_end = {key: use_map(key) for key in map}\n",
    "    return start_end"
   ]
  },
  {
   "cell_type": "code",
   "execution_count": 66,
   "id": "828eaafa-9b37-4e8c-8794-a342900a8197",
   "metadata": {},
   "outputs": [],
   "source": [
    "def run_part1():\n",
    "    start_end_dict = use_map_instructions()\n",
    "    next_final_loc = 'AAA'\n",
    "    i = 0\n",
    "    while next_final_loc!='ZZZ':\n",
    "        next_final_loc = start_end_dict[next_final_loc]\n",
    "        i += 1\n",
    "        if next_final_loc == 'ZZZ':\n",
    "            break\n",
    "    return i * len(instructions)"
   ]
  },
  {
   "cell_type": "code",
   "execution_count": 67,
   "id": "950b6130-4782-4a26-8106-125b703b0e10",
   "metadata": {},
   "outputs": [
    {
     "data": {
      "text/plain": [
       "19951"
      ]
     },
     "execution_count": 67,
     "metadata": {},
     "output_type": "execute_result"
    }
   ],
   "source": [
    "run_part1()"
   ]
  },
  {
   "cell_type": "code",
   "execution_count": null,
   "id": "bca534ca-29fa-43ef-b9a0-801d30e11a6d",
   "metadata": {},
   "outputs": [],
   "source": []
  }
 ],
 "metadata": {
  "kernelspec": {
   "display_name": "Python 3 (ipykernel)",
   "language": "python",
   "name": "python3"
  },
  "language_info": {
   "codemirror_mode": {
    "name": "ipython",
    "version": 3
   },
   "file_extension": ".py",
   "mimetype": "text/x-python",
   "name": "python",
   "nbconvert_exporter": "python",
   "pygments_lexer": "ipython3",
   "version": "3.9.2"
  }
 },
 "nbformat": 4,
 "nbformat_minor": 5
}
