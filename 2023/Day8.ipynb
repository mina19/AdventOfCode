{
 "cells": [
  {
   "cell_type": "markdown",
   "id": "42c02dd0-7f21-45b6-9768-ad0b691ea610",
   "metadata": {},
   "source": [
    "# Day 8"
   ]
  },
  {
   "cell_type": "code",
   "execution_count": null,
   "id": "9d45412d-8850-4570-acb5-055b5ee7ca66",
   "metadata": {},
   "outputs": [],
   "source": [
    "# lines = [line.rstrip() for line in open('day8_input.txt')]\n",
    "# lines = [line.rstrip() for line in open('day8_sample.txt')]\n",
    "lines = [line.rstrip() for line in open('day8_sample2.txt')]"
   ]
  },
  {
   "cell_type": "markdown",
   "id": "8d3added-d1f9-4e33-8270-477857d95a93",
   "metadata": {},
   "source": [
    "## Part 1"
   ]
  },
  {
   "cell_type": "code",
   "execution_count": null,
   "id": "de9275c1-57b6-472f-ab30-8a6e5942e790",
   "metadata": {},
   "outputs": [],
   "source": [
    "instructions = lines[0]\n",
    "instructions = [1 if el=='R' else 0 for el in instructions]\n",
    "\n",
    "map = lines[2:]\n",
    "map_keys = [line.split(' = ')[0] for line in map]\n",
    "map_values = [line.split(' = ')[1] for line in map]\n",
    "map_values = [(value[1:4], value[6:9]) for value in map_values]\n",
    "map = dict(zip(map_keys, map_values))"
   ]
  },
  {
   "cell_type": "code",
   "execution_count": null,
   "id": "e5a1143c-9bec-46f6-8610-5b36a2104d67",
   "metadata": {},
   "outputs": [],
   "source": [
    "def use_map(key):\n",
    "    for direction in instructions:\n",
    "        key = map[key][direction]\n",
    "    return key\n",
    "\n",
    "def use_map_instructions():\n",
    "    # Return last locations after using map instructions\n",
    "    start_end = {key: use_map(key) for key in map}\n",
    "    return start_end"
   ]
  },
  {
   "cell_type": "code",
   "execution_count": null,
   "id": "828eaafa-9b37-4e8c-8794-a342900a8197",
   "metadata": {},
   "outputs": [],
   "source": [
    "def run_part1():\n",
    "    start_end_dict = use_map_instructions()\n",
    "    next_final_loc = 'AAA'\n",
    "    i = 0\n",
    "    while next_final_loc!='ZZZ':\n",
    "        next_final_loc = start_end_dict[next_final_loc]\n",
    "        i += 1\n",
    "        if next_final_loc == 'ZZZ':\n",
    "            break\n",
    "    return i * len(instructions)"
   ]
  },
  {
   "cell_type": "code",
   "execution_count": null,
   "id": "950b6130-4782-4a26-8106-125b703b0e10",
   "metadata": {},
   "outputs": [],
   "source": [
    "run_part1()"
   ]
  },
  {
   "cell_type": "markdown",
   "id": "593f4116-517d-4173-9d8e-6bd6a115624f",
   "metadata": {},
   "source": [
    "## Part 2"
   ]
  },
  {
   "cell_type": "code",
   "execution_count": null,
   "id": "47b2414e-8057-46f0-9cf2-b4d79910e782",
   "metadata": {},
   "outputs": [],
   "source": [
    "# lines = [line.rstrip() for line in open('day8_input.txt')]\n",
    "lines = [line.rstrip() for line in open('day8_sample3.txt')]"
   ]
  },
  {
   "cell_type": "markdown",
   "id": "26b2ceb8-9677-46de-bb5c-f06b0c00787d",
   "metadata": {},
   "source": [
    "## Naive Solution"
   ]
  },
  {
   "cell_type": "code",
   "execution_count": null,
   "id": "76b0bfe8-9dd7-44d6-84d7-847eeef0a3f3",
   "metadata": {},
   "outputs": [],
   "source": [
    "def run_part2():\n",
    "    start_end_dict = use_map_instructions()\n",
    "    next_final_locs = [key for key in start_end_dict.keys() if key[-1]=='A']\n",
    "    i = 0\n",
    "    while set([el[-1] for el in next_final_locs]) != {'Z'}:\n",
    "        print(set([el[-1] for el in next_final_locs]))\n",
    "        next_final_locs = [start_end_dict[loc] for loc in next_final_locs]\n",
    "        i += 1\n",
    "    return i * len(instructions)"
   ]
  },
  {
   "cell_type": "markdown",
   "id": "69b5a2c0-9e61-49ce-a001-70551bff5666",
   "metadata": {},
   "source": [
    "## Improved solution"
   ]
  },
  {
   "cell_type": "code",
   "execution_count": null,
   "id": "d8410430-0876-4a35-870c-8b8090498bdb",
   "metadata": {},
   "outputs": [],
   "source": [
    "from functools import reduce\n",
    "import operator"
   ]
  },
  {
   "cell_type": "code",
   "execution_count": null,
   "id": "2f5f3dea-6f4c-4ef6-84e8-858db65d2b30",
   "metadata": {},
   "outputs": [],
   "source": [
    "def run_part2():\n",
    "    start_end_dict = use_map_instructions()\n",
    "    next_final_locs = [key for key in start_end_dict.keys() if key[-1]=='A']\n",
    "    count = len(next_final_locs)\n",
    "    i = 0\n",
    "    numbers = []\n",
    "    while set([el[-1] for el in next_final_locs]) != {'Z'}:\n",
    "        next_final_locs = [el for el in next_final_locs if el[-1]!='Z']\n",
    "        new_count=len(next_final_locs)\n",
    "        if new_count!=count:\n",
    "            numbers.append(i)\n",
    "            count = new_count\n",
    "        next_final_locs = [start_end_dict[loc] for loc in next_final_locs]\n",
    "        i += 1\n",
    "    numbers.append(i)\n",
    "    return reduce(operator.mul, numbers, 1) * len(instructions) "
   ]
  },
  {
   "cell_type": "code",
   "execution_count": null,
   "id": "36dc0b8c-f883-4b18-b693-17f1abdf4f37",
   "metadata": {},
   "outputs": [],
   "source": [
    "run_part2()"
   ]
  },
  {
   "cell_type": "code",
   "execution_count": null,
   "id": "281161ab-3627-4505-b803-41faa9accbb4",
   "metadata": {},
   "outputs": [],
   "source": []
  }
 ],
 "metadata": {
  "kernelspec": {
   "display_name": "Python 3 (ipykernel)",
   "language": "python",
   "name": "python3"
  },
  "language_info": {
   "codemirror_mode": {
    "name": "ipython",
    "version": 3
   },
   "file_extension": ".py",
   "mimetype": "text/x-python",
   "name": "python",
   "nbconvert_exporter": "python",
   "pygments_lexer": "ipython3",
   "version": "3.9.2"
  }
 },
 "nbformat": 4,
 "nbformat_minor": 5
}
