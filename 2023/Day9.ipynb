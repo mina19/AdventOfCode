{
 "cells": [
  {
   "cell_type": "markdown",
   "id": "4c135b71-2ba5-44ce-8a86-c9fe6eae4901",
   "metadata": {},
   "source": [
    "# Day 9"
   ]
  },
  {
   "cell_type": "code",
   "execution_count": 92,
   "id": "afd40b24-3bad-4e43-b071-64396fb60c4a",
   "metadata": {},
   "outputs": [],
   "source": [
    "lines = [line.rstrip() for line in open('day9_input.txt')]\n",
    "#lines = [line.rstrip() for line in open('day9_sample.txt')]"
   ]
  },
  {
   "cell_type": "markdown",
   "id": "125ddfd1-1491-455b-a4e0-bfdcccba9fa9",
   "metadata": {},
   "source": [
    "## Part 1"
   ]
  },
  {
   "cell_type": "code",
   "execution_count": 93,
   "id": "d2e0c6b2-6d1a-47da-96ee-9be318b646dc",
   "metadata": {},
   "outputs": [],
   "source": [
    "import numpy as np"
   ]
  },
  {
   "cell_type": "code",
   "execution_count": 94,
   "id": "33f8616a-8244-4601-a16d-2a6b1f193155",
   "metadata": {},
   "outputs": [],
   "source": [
    "lines = [line.split(' ') for line in lines]\n",
    "lines = [np.array([int(num) for num in line]) for line in lines]"
   ]
  },
  {
   "cell_type": "code",
   "execution_count": 95,
   "id": "b91561fe-6903-411f-8719-eb29a63da827",
   "metadata": {},
   "outputs": [],
   "source": [
    "def find_all_zero_diffs(arr):\n",
    "    if arr.size==0:\n",
    "        print('grr', arr)\n",
    "    last_diffs = [arr[-1]]\n",
    "    diff = np.diff(arr)\n",
    "    while not (not np.any(diff)):\n",
    "        last_el = diff[-1]\n",
    "        last_diffs.append(last_el)\n",
    "        arr = diff\n",
    "        diff = np.diff(arr)\n",
    "    return sum(last_diffs)"
   ]
  },
  {
   "cell_type": "code",
   "execution_count": 96,
   "id": "69b915d8-9f44-4867-afe6-fbedb64d05ac",
   "metadata": {},
   "outputs": [
    {
     "data": {
      "text/plain": [
       "1708206096"
      ]
     },
     "execution_count": 96,
     "metadata": {},
     "output_type": "execute_result"
    }
   ],
   "source": [
    "updates = [find_all_zero_diffs(arr) for i, arr in enumerate(lines)]\n",
    "sum(updates)"
   ]
  },
  {
   "cell_type": "markdown",
   "id": "b3ecd4d9-43b5-422a-98e9-86b6645a1acc",
   "metadata": {},
   "source": [
    "## Part 2"
   ]
  },
  {
   "cell_type": "code",
   "execution_count": null,
   "id": "9a30f6cc-1121-435b-8095-763fd28df870",
   "metadata": {},
   "outputs": [],
   "source": []
  }
 ],
 "metadata": {
  "kernelspec": {
   "display_name": "Python 3 (ipykernel)",
   "language": "python",
   "name": "python3"
  },
  "language_info": {
   "codemirror_mode": {
    "name": "ipython",
    "version": 3
   },
   "file_extension": ".py",
   "mimetype": "text/x-python",
   "name": "python",
   "nbconvert_exporter": "python",
   "pygments_lexer": "ipython3",
   "version": "3.9.2"
  }
 },
 "nbformat": 4,
 "nbformat_minor": 5
}
