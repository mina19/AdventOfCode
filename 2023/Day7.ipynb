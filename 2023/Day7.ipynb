{
 "cells": [
  {
   "cell_type": "markdown",
   "id": "9a88f524-272c-4a9d-8795-b50bc984c4d7",
   "metadata": {},
   "source": [
    "# Day 7"
   ]
  },
  {
   "cell_type": "code",
   "execution_count": 1,
   "id": "04295fd3-7b30-49e5-b291-b6fd4952e856",
   "metadata": {},
   "outputs": [],
   "source": [
    "# lines = [line.rstrip() for line in open('day7_input.txt')]\n",
    "lines = [line.rstrip() for line in open('day7_sample.txt')]"
   ]
  },
  {
   "cell_type": "code",
   "execution_count": 2,
   "id": "e5eef7d0-3e65-4aea-a6a2-b5e7faa1c89a",
   "metadata": {},
   "outputs": [],
   "source": [
    "hands = [line.split(' ')[0] for line in lines]\n",
    "bids = [int(line.split(' ')[1]) for line in lines]"
   ]
  },
  {
   "cell_type": "code",
   "execution_count": 3,
   "id": "a5bb5ac1-0061-4d26-8722-a44b6ee3c618",
   "metadata": {},
   "outputs": [],
   "source": [
    "from functools import wraps\n",
    "from time import time\n",
    "\n",
    "def timing(f):\n",
    "    @wraps(f)\n",
    "    def wrap(*args, **kw):\n",
    "        ts = time()\n",
    "        result = f(*args, **kw)\n",
    "        te = time()\n",
    "        print('func:%r args:[%r, %r] took: %2.10f sec' % \\\n",
    "          (f.__name__, args, kw, te-ts))\n",
    "        return result\n",
    "    return wrap"
   ]
  },
  {
   "cell_type": "markdown",
   "id": "c8e290bc-4001-40ce-b339-accc391d9593",
   "metadata": {},
   "source": [
    "## Part 1"
   ]
  },
  {
   "cell_type": "code",
   "execution_count": 4,
   "id": "0065715f-ad27-45a9-9405-8ebb8e4830b1",
   "metadata": {},
   "outputs": [],
   "source": [
    "ranked_cards = ['A', 'K', 'Q', 'J', 'T', '9', '8', '7', '6', '5', '4', '3', '2']\n",
    "replacements = [1, 2, 3, 4, 5, 6, 7, 8, 9, 10, 11, 12, 13]"
   ]
  },
  {
   "cell_type": "code",
   "execution_count": 5,
   "id": "d382581a-77a8-4a24-b261-b3712721cc17",
   "metadata": {},
   "outputs": [],
   "source": [
    "def determine_type(hand):\n",
    "    set_hand = set(hand)\n",
    "    list_set_hand = list(set_hand)\n",
    "    if len(set_hand)==1:\n",
    "        return 0\n",
    "    if len(set_hand)==2:\n",
    "        if hand.count(list_set_hand[0])==4 or hand.count(list_set_hand[0])==1:\n",
    "            return 1\n",
    "        else:\n",
    "            return 2\n",
    "    if len(set_hand)==3:\n",
    "        if hand.count(list_set_hand[0])==3 or hand.count(list_set_hand[1])==3 or hand.count(list_set_hand[2])==3:\n",
    "            return 3\n",
    "        else:\n",
    "            return 4\n",
    "    if len(set_hand)==4:\n",
    "        return 5\n",
    "    if len(set_hand)==5:\n",
    "        return 6\n",
    "\n",
    "def replace_hand(hand):\n",
    "    new_hand = []\n",
    "    for card in hand:\n",
    "        new_hand.append(replacements[ranked_cards.index(card)])\n",
    "    return new_hand"
   ]
  },
  {
   "cell_type": "code",
   "execution_count": 6,
   "id": "00ebf15a-fa5f-429a-ab4c-4773610a5218",
   "metadata": {},
   "outputs": [],
   "source": [
    "def order_list(some_list):\n",
    "    hands = [item[0] for item in some_list]\n",
    "    bids = [item[1] for item in some_list]\n",
    "    hands_sorted=sorted(hands, key=lambda x: (x[0], x[1], x[2], x[3], x[4]))\n",
    "    return [bids[hands.index(hand)] for hand in hands_sorted ]"
   ]
  },
  {
   "cell_type": "code",
   "execution_count": 7,
   "id": "bb40e7c2-67b2-4361-ba1e-4468c45a29cc",
   "metadata": {},
   "outputs": [],
   "source": [
    "@timing\n",
    "def total_winnings():\n",
    "    five_of_a_kinds = []\n",
    "    four_of_a_kinds = []\n",
    "    full_houses = []\n",
    "    three_of_a_kinds = []\n",
    "    two_pairs = []\n",
    "    one_pairs = []\n",
    "    high_cards = []\n",
    "    \n",
    "    for i, hand in enumerate(hands):\n",
    "        hand_type = determine_type(hand)\n",
    "        replaced_hand = replace_hand(hand)\n",
    "        if hand_type == 0:\n",
    "            five_of_a_kinds.append((replaced_hand, bids[i]))\n",
    "        elif hand_type == 1:\n",
    "            four_of_a_kinds.append((replaced_hand, bids[i]))\n",
    "        elif hand_type==2:\n",
    "            full_houses.append((replaced_hand, bids[i]))\n",
    "        elif hand_type==3:\n",
    "            three_of_a_kinds.append((replaced_hand, bids[i]))\n",
    "        elif hand_type==4:\n",
    "            two_pairs.append((replaced_hand, bids[i]))\n",
    "        elif hand_type==5:\n",
    "            one_pairs.append((replaced_hand, bids[i]))\n",
    "        else:\n",
    "            high_cards.append((replaced_hand, bids[i]))\n",
    "    \n",
    "    ordered_bids = []\n",
    "    for some_list in [five_of_a_kinds, four_of_a_kinds, full_houses, three_of_a_kinds, two_pairs, one_pairs, high_cards]:\n",
    "        ordered_bids += order_list(some_list)\n",
    "    \n",
    "    total_winnings = 0\n",
    "    for i in range(len(ordered_bids)):\n",
    "        total_winnings += (i+1)*ordered_bids[::-1][i]\n",
    "\n",
    "    return total_winnings"
   ]
  },
  {
   "cell_type": "code",
   "execution_count": 8,
   "id": "4af045cf-39cc-46be-affe-9f32a5a94ebc",
   "metadata": {},
   "outputs": [
    {
     "name": "stdout",
     "output_type": "stream",
     "text": [
      "func:'total_winnings' args:[(), {}] took: 0.0000319481 sec\n"
     ]
    },
    {
     "data": {
      "text/plain": [
       "6440"
      ]
     },
     "execution_count": 8,
     "metadata": {},
     "output_type": "execute_result"
    }
   ],
   "source": [
    "total_winnings()"
   ]
  },
  {
   "cell_type": "markdown",
   "id": "4fa5aba8-2581-4c30-afb3-d327fca039b7",
   "metadata": {},
   "source": [
    "## Part 2"
   ]
  },
  {
   "cell_type": "code",
   "execution_count": 9,
   "id": "d854f053-50dc-4a5e-9b11-741b7aa64a21",
   "metadata": {},
   "outputs": [],
   "source": [
    "hands = [line.split(' ')[0] for line in lines]\n",
    "bids = [int(line.split(' ')[1]) for line in lines]"
   ]
  },
  {
   "cell_type": "code",
   "execution_count": 10,
   "id": "0a731245-315b-4d8e-89bc-6497fbe12083",
   "metadata": {},
   "outputs": [],
   "source": [
    "new_ranked_cards = ['A', 'K', 'Q', 'T', '9', '8', '7', '6', '5', '4', '3', '2', 'J']\n",
    "new_replacements = [1, 2, 3, 4, 5, 6, 7, 8, 9, 10, 11, 12, 13]"
   ]
  },
  {
   "cell_type": "code",
   "execution_count": 11,
   "id": "797a1f82-6fc4-4951-9680-11b88c657c38",
   "metadata": {},
   "outputs": [],
   "source": [
    "def max_card(hand):\n",
    "    max_card = 'J'\n",
    "    for card in hand:\n",
    "        card_index = new_ranked_cards.index(card)\n",
    "        if card_index < new_ranked_cards.index(max_card):\n",
    "            max_card = card\n",
    "    return max_card\n",
    "\n",
    "def new_revert_replace_hand(hand):\n",
    "    new_hand = ''\n",
    "    for card in hand:\n",
    "        new_hand += new_ranked_cards[new_replacements.index(card)]\n",
    "    return new_hand\n",
    "\n",
    "def best_hand(hands):\n",
    "    replaced_hands = [list(new_replace_hand(hand)) for hand in hands]\n",
    "    hands_sorted=sorted(replaced_hands, key=lambda x: (x[0], x[1], x[2], x[3], x[4]))\n",
    "    reverted_hand = new_revert_replace_hand(hands_sorted[0])\n",
    "    return reverted_hand"
   ]
  },
  {
   "cell_type": "code",
   "execution_count": 12,
   "id": "8f83a777-fad7-4b2a-823c-f135543c8eb4",
   "metadata": {},
   "outputs": [],
   "source": [
    "def max_count_card(hand):\n",
    "    max_count = 0\n",
    "    for card in hand:\n",
    "        card_count = hand.count(card)\n",
    "        if card_count > max_count:\n",
    "            max_count = card_count\n",
    "    return max_count\n",
    "\n",
    "def new_determine_type(hand):\n",
    "    set_hand = set(hand)\n",
    "    list_set_hand = list(set_hand)\n",
    "    num_of_jokers = hand.count('J')\n",
    "\n",
    "    # find out which card to replace\n",
    "    if num_of_jokers > 0:\n",
    "        possible_hands = []\n",
    "        possible_sets = []\n",
    "        for card in list_set_hand:\n",
    "            hand1 = list(map(lambda x: x.replace('J', card), hand))\n",
    "            hand1 = ''.join(hand1)\n",
    "            set_hand1 = set(hand1)\n",
    "            possible_hands.append(hand1)\n",
    "            possible_sets.append(set_hand1)\n",
    "\n",
    "        # rank the possible hands\n",
    "        possible_set_lengths = [len(set) for set in possible_sets]\n",
    "        min_possible_set_length = min(possible_set_lengths)\n",
    "        possible_hands = [hand for hand in possible_hands if len(set(hand))==min_possible_set_length]\n",
    "        max_count = max([max_count_card(hand) for hand in possible_hands])\n",
    "        possible_hands = [hand for hand in possible_hands if max_count_card(hand) == max_count]\n",
    "        if len(possible_hands) > 1:\n",
    "            hand = best_hand(possible_hands)\n",
    "            set_hand = set(hand)\n",
    "            list_set_hand = list(set_hand)\n",
    "        else:\n",
    "            hand = possible_hands[0]\n",
    "            set_hand = set(hand)\n",
    "            list_set_hand = list(set_hand)\n",
    "    \n",
    "    if len(set_hand)==1:\n",
    "        return 0\n",
    "    if len(set_hand)==2:\n",
    "        if hand.count(list_set_hand[0])==4 or hand.count(list_set_hand[0])==1:\n",
    "            return 1\n",
    "        else:\n",
    "            return 2\n",
    "    if len(set_hand)==3:\n",
    "        if hand.count(list_set_hand[0])==3 or hand.count(list_set_hand[1])==3 or hand.count(list_set_hand[2])==3:\n",
    "            return 3\n",
    "        else:\n",
    "            return 4\n",
    "    if len(set_hand)==4:\n",
    "        return 5\n",
    "    if len(set_hand)==5:\n",
    "        return 6\n",
    "\n",
    "def new_replace_hand(hand):\n",
    "    new_hand = []\n",
    "    for card in hand:\n",
    "        new_hand.append(new_replacements[new_ranked_cards.index(card)])\n",
    "    return new_hand"
   ]
  },
  {
   "cell_type": "code",
   "execution_count": 13,
   "id": "631f721b-aee1-433f-ab59-cb8d4eb54b32",
   "metadata": {},
   "outputs": [],
   "source": [
    "@timing\n",
    "def new_total_winnings():\n",
    "    five_of_a_kinds = []\n",
    "    four_of_a_kinds = []\n",
    "    full_houses = []\n",
    "    three_of_a_kinds = []\n",
    "    two_pairs = []\n",
    "    one_pairs = []\n",
    "    high_cards = []\n",
    "    \n",
    "    for i, hand in enumerate(hands):\n",
    "        hand_type = new_determine_type(hand)\n",
    "        replaced_hand = new_replace_hand(hand)\n",
    "        if hand_type == 0:\n",
    "            five_of_a_kinds.append((replaced_hand, bids[i]))\n",
    "        elif hand_type == 1:\n",
    "            four_of_a_kinds.append((replaced_hand, bids[i]))\n",
    "        elif hand_type==2:\n",
    "            full_houses.append((replaced_hand, bids[i]))\n",
    "        elif hand_type==3:\n",
    "            three_of_a_kinds.append((replaced_hand, bids[i]))\n",
    "        elif hand_type==4:\n",
    "            two_pairs.append((replaced_hand, bids[i]))\n",
    "        elif hand_type==5:\n",
    "            one_pairs.append((replaced_hand, bids[i]))\n",
    "        else:\n",
    "            high_cards.append((replaced_hand, bids[i]))\n",
    "    \n",
    "    ordered_bids = []\n",
    "    for some_list in [five_of_a_kinds, four_of_a_kinds, full_houses, three_of_a_kinds, two_pairs, one_pairs, high_cards]:\n",
    "        ordered_bids += order_list(some_list)\n",
    "    \n",
    "    total_winnings = 0\n",
    "    for i in range(len(ordered_bids)):\n",
    "        total_winnings += (i+1)*ordered_bids[::-1][i]\n",
    "        \n",
    "    return total_winnings"
   ]
  },
  {
   "cell_type": "code",
   "execution_count": 14,
   "id": "9a12b42a-7cc8-4e26-9571-a9df63f7e176",
   "metadata": {},
   "outputs": [
    {
     "name": "stdout",
     "output_type": "stream",
     "text": [
      "func:'new_total_winnings' args:[(), {}] took: 0.0000686646 sec\n"
     ]
    },
    {
     "data": {
      "text/plain": [
       "5905"
      ]
     },
     "execution_count": 14,
     "metadata": {},
     "output_type": "execute_result"
    }
   ],
   "source": [
    "new_total_winnings()"
   ]
  },
  {
   "cell_type": "markdown",
   "id": "8630f8b0-9e7a-4789-9a75-63b6a37f009c",
   "metadata": {},
   "source": [
    "## Michael's Way"
   ]
  },
  {
   "cell_type": "code",
   "execution_count": 15,
   "id": "5f9c1f6f-5958-4d0c-9045-06b0c1d70862",
   "metadata": {},
   "outputs": [],
   "source": [
    "from pathlib import Path\n",
    "from collections import Counter"
   ]
  },
  {
   "cell_type": "code",
   "execution_count": 16,
   "id": "53c81631-0047-4509-9d49-aa050d505033",
   "metadata": {},
   "outputs": [],
   "source": [
    "data = [line.split() for line in lines]"
   ]
  },
  {
   "cell_type": "code",
   "execution_count": 17,
   "id": "0cf88a0c-042e-4dfa-8571-ccc76f71da4e",
   "metadata": {},
   "outputs": [],
   "source": [
    "values = {'T': 10,\n",
    "          'J': 11,\n",
    "          'Q': 12,\n",
    "          'K': 13,\n",
    "          'A': 14}\n",
    "\n",
    "def hand_rank(hand):\n",
    "    count = sorted(Counter(hand).values(), reverse = True)\n",
    "    \n",
    "    hand = [int(card) if card.isdigit() else values[card] for card in hand]\n",
    "    \n",
    "    return count, hand"
   ]
  },
  {
   "cell_type": "code",
   "execution_count": 18,
   "id": "19ee03a4-c46e-4139-a0c2-8dd2085efd67",
   "metadata": {},
   "outputs": [
    {
     "name": "stdout",
     "output_type": "stream",
     "text": [
      "6440\n",
      "took: 0.0005183220 sec\n"
     ]
    }
   ],
   "source": [
    "ts = time()\n",
    "ranked_hands = sorted(data, key = lambda x: hand_rank(x[0]))\n",
    "print(sum([(i+1)*int(bid) for i, (hand, bid) in enumerate(ranked_hands)]))\n",
    "te = time()\n",
    "print('took: %2.10f sec' % (te-ts))"
   ]
  },
  {
   "cell_type": "code",
   "execution_count": 19,
   "id": "14c5793d-e162-45e3-ae22-3a0e62ce9f87",
   "metadata": {},
   "outputs": [],
   "source": [
    "values = {'T': 10,\n",
    "          'J': 0,\n",
    "          'Q': 12,\n",
    "          'K': 13,\n",
    "          'A': 14}\n",
    "\n",
    "def hand_rank2(hand):\n",
    "\n",
    "    jokers = hand.count('J')\n",
    "    count = sorted(Counter(hand.replace('J', '')).values(), reverse = True)\n",
    "\n",
    "    if not count: # All Joker hand\n",
    "        count = [0]\n",
    "        \n",
    "    count[0] += jokers\n",
    "    \n",
    "    hand = [int(card) if card.isdigit() else values[card] for card in hand]\n",
    "\n",
    "    return count, hand\n"
   ]
  },
  {
   "cell_type": "code",
   "execution_count": 20,
   "id": "efbd8435-197a-4459-98e7-c5fd44a30c61",
   "metadata": {},
   "outputs": [
    {
     "name": "stdout",
     "output_type": "stream",
     "text": [
      "5905\n",
      "took: 0.0003509521 sec\n"
     ]
    }
   ],
   "source": [
    "ts = time()\n",
    "ranked_hands = sorted(data, key = lambda x: hand_rank2(x[0]))\n",
    "\n",
    "print(sum([(i+1)*int(bid) for i, (hand, bid) in enumerate(ranked_hands)]))\n",
    "te = time()\n",
    "print('took: %2.10f sec' % (te-ts))"
   ]
  }
 ],
 "metadata": {
  "kernelspec": {
   "display_name": "Python 3 (ipykernel)",
   "language": "python",
   "name": "python3"
  },
  "language_info": {
   "codemirror_mode": {
    "name": "ipython",
    "version": 3
   },
   "file_extension": ".py",
   "mimetype": "text/x-python",
   "name": "python",
   "nbconvert_exporter": "python",
   "pygments_lexer": "ipython3",
   "version": "3.9.2"
  }
 },
 "nbformat": 4,
 "nbformat_minor": 5
}
