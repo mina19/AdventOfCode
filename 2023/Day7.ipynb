{
 "cells": [
  {
   "cell_type": "markdown",
   "id": "9a88f524-272c-4a9d-8795-b50bc984c4d7",
   "metadata": {},
   "source": [
    "# Day 7"
   ]
  },
  {
   "cell_type": "code",
   "execution_count": 1,
   "id": "04295fd3-7b30-49e5-b291-b6fd4952e856",
   "metadata": {},
   "outputs": [],
   "source": [
    "# lines = [line.rstrip() for line in open('day7_input.txt')]\n",
    "lines = [line.rstrip() for line in open('day7_sample.txt')]"
   ]
  },
  {
   "cell_type": "code",
   "execution_count": 2,
   "id": "e5eef7d0-3e65-4aea-a6a2-b5e7faa1c89a",
   "metadata": {},
   "outputs": [],
   "source": [
    "hands = [line.split(' ')[0] for line in lines]\n",
    "bids = [int(line.split(' ')[1]) for line in lines]"
   ]
  },
  {
   "cell_type": "markdown",
   "id": "c8e290bc-4001-40ce-b339-accc391d9593",
   "metadata": {},
   "source": [
    "## Part 1"
   ]
  },
  {
   "cell_type": "code",
   "execution_count": 3,
   "id": "0065715f-ad27-45a9-9405-8ebb8e4830b1",
   "metadata": {},
   "outputs": [],
   "source": [
    "ranked_cards = ['A', 'K', 'Q', 'J', 'T', '9', '8', '7', '6', '5', '4', '3', '2']\n",
    "replacements = ['a', 'b', 'c', 'd', 'e', 'f', 'g', 'h', 'i', 'j', 'k', 'l', 'm']"
   ]
  },
  {
   "cell_type": "code",
   "execution_count": 4,
   "id": "d382581a-77a8-4a24-b261-b3712721cc17",
   "metadata": {},
   "outputs": [],
   "source": [
    "def determine_type(hand):\n",
    "    set_hand = set(hand)\n",
    "    list_set_hand = list(set_hand)\n",
    "    if len(set_hand)==1:\n",
    "        return 0\n",
    "    if len(set_hand)==2:\n",
    "        if hand.count(list_set_hand[0])==4 or hand.count(list_set_hand[0])==1:\n",
    "            return 1\n",
    "        else:\n",
    "            return 2\n",
    "    if len(set_hand)==3:\n",
    "        if hand.count(list_set_hand[0])==3 or hand.count(list_set_hand[1])==3 or hand.count(list_set_hand[2])==3:\n",
    "            return 3\n",
    "        else:\n",
    "            return 4\n",
    "    if len(set_hand)==4:\n",
    "        return 5\n",
    "    if len(set_hand)==5:\n",
    "        return 6\n",
    "\n",
    "def replace_hand(hand):\n",
    "    new_hand = ''\n",
    "    for card in hand:\n",
    "        new_hand += replacements[ranked_cards.index(card)]\n",
    "    return new_hand"
   ]
  },
  {
   "cell_type": "code",
   "execution_count": 5,
   "id": "00ebf15a-fa5f-429a-ab4c-4773610a5218",
   "metadata": {},
   "outputs": [],
   "source": [
    "def order_list(some_list):\n",
    "    hands = [item[0] for item in some_list]\n",
    "    bids = [item[1] for item in some_list]\n",
    "    hands_sorted=sorted(hands, key=lambda x: (x[0], x[1], x[2], x[3], x[4]))\n",
    "    return [bids[hands.index(hand)] for hand in hands_sorted ]"
   ]
  },
  {
   "cell_type": "code",
   "execution_count": 6,
   "id": "bb40e7c2-67b2-4361-ba1e-4468c45a29cc",
   "metadata": {},
   "outputs": [],
   "source": [
    "def total_winnings():\n",
    "    five_of_a_kinds = []\n",
    "    four_of_a_kinds = []\n",
    "    full_houses = []\n",
    "    three_of_a_kinds = []\n",
    "    two_pairs = []\n",
    "    one_pairs = []\n",
    "    high_cards = []\n",
    "    \n",
    "    for i, hand in enumerate(hands):\n",
    "        hand_type = determine_type(hand)\n",
    "        replaced_hand = replace_hand(hand)\n",
    "        if hand_type == 0:\n",
    "            five_of_a_kinds.append((replaced_hand, bids[i]))\n",
    "        elif hand_type == 1:\n",
    "            four_of_a_kinds.append((replaced_hand, bids[i]))\n",
    "        elif hand_type==2:\n",
    "            full_houses.append((replaced_hand, bids[i]))\n",
    "        elif hand_type==3:\n",
    "            three_of_a_kinds.append((replaced_hand, bids[i]))\n",
    "        elif hand_type==4:\n",
    "            two_pairs.append((replaced_hand, bids[i]))\n",
    "        elif hand_type==5:\n",
    "            one_pairs.append((replaced_hand, bids[i]))\n",
    "        else:\n",
    "            high_cards.append((replaced_hand, bids[i]))\n",
    "    \n",
    "    ordered_bids = []\n",
    "    for some_list in [five_of_a_kinds, four_of_a_kinds, full_houses, three_of_a_kinds, two_pairs, one_pairs, high_cards]:\n",
    "        ordered_bids += order_list(some_list)\n",
    "    \n",
    "    total_winnings = 0\n",
    "    for i in range(len(ordered_bids)):\n",
    "        total_winnings += (i+1)*ordered_bids[::-1][i]\n",
    "\n",
    "    return total_winnings"
   ]
  },
  {
   "cell_type": "code",
   "execution_count": 7,
   "id": "4af045cf-39cc-46be-affe-9f32a5a94ebc",
   "metadata": {},
   "outputs": [
    {
     "data": {
      "text/plain": [
       "6440"
      ]
     },
     "execution_count": 7,
     "metadata": {},
     "output_type": "execute_result"
    }
   ],
   "source": [
    "total_winnings()"
   ]
  },
  {
   "cell_type": "markdown",
   "id": "4fa5aba8-2581-4c30-afb3-d327fca039b7",
   "metadata": {},
   "source": [
    "## Part 2"
   ]
  },
  {
   "cell_type": "code",
   "execution_count": 8,
   "id": "d854f053-50dc-4a5e-9b11-741b7aa64a21",
   "metadata": {},
   "outputs": [],
   "source": [
    "hands = [line.split(' ')[0] for line in lines]\n",
    "bids = [int(line.split(' ')[1]) for line in lines]"
   ]
  },
  {
   "cell_type": "code",
   "execution_count": 9,
   "id": "0a731245-315b-4d8e-89bc-6497fbe12083",
   "metadata": {},
   "outputs": [],
   "source": [
    "new_ranked_cards = ['A', 'K', 'Q', 'T', '9', '8', '7', '6', '5', '4', '3', '2', 'J']\n",
    "new_replacements = ['a', 'b', 'c', 'd', 'e', 'f', 'g', 'h', 'i', 'j', 'k', 'l', 'm']"
   ]
  },
  {
   "cell_type": "code",
   "execution_count": 10,
   "id": "797a1f82-6fc4-4951-9680-11b88c657c38",
   "metadata": {},
   "outputs": [],
   "source": [
    "def max_card(hand):\n",
    "    max_card = 'J'\n",
    "    for card in hand:\n",
    "        card_index = new_ranked_cards.index(card)\n",
    "        if card_index < new_ranked_cards.index(max_card):\n",
    "            max_card = card\n",
    "    return max_card\n",
    "\n",
    "def new_revert_replace_hand(hand):\n",
    "    new_hand = ''\n",
    "    for card in hand:\n",
    "        new_hand += new_ranked_cards[new_replacements.index(card)]\n",
    "    return new_hand\n",
    "\n",
    "def best_hand(hands):\n",
    "    replaced_hands = [list(new_replace_hand(hand)) for hand in hands]\n",
    "    hands_sorted=sorted(replaced_hands, key=lambda x: (x[0], x[1], x[2], x[3], x[4]))\n",
    "    reverted_hand = new_revert_replace_hand(''.join(hands_sorted[0]))\n",
    "    return reverted_hand"
   ]
  },
  {
   "cell_type": "code",
   "execution_count": 11,
   "id": "8f83a777-fad7-4b2a-823c-f135543c8eb4",
   "metadata": {},
   "outputs": [],
   "source": [
    "def max_count_card(hand):\n",
    "    max_count = 0\n",
    "    for card in hand:\n",
    "        card_count = hand.count(card)\n",
    "        if card_count > max_count:\n",
    "            max_count = card_count\n",
    "    return max_count\n",
    "\n",
    "def new_determine_type(hand):\n",
    "    set_hand = set(hand)\n",
    "    list_set_hand = list(set_hand)\n",
    "    num_of_jokers = hand.count('J')\n",
    "\n",
    "    # find out which card to replace\n",
    "    if num_of_jokers > 0:\n",
    "        possible_hands = []\n",
    "        possible_sets = []\n",
    "        for card in list_set_hand:\n",
    "            hand1 = list(map(lambda x: x.replace('J', card), hand))\n",
    "            hand1 = ''.join(hand1)\n",
    "            set_hand1 = set(hand1)\n",
    "            possible_hands.append(hand1)\n",
    "            possible_sets.append(set_hand1)\n",
    "\n",
    "        # rank the possible hands\n",
    "        possible_set_lengths = [len(set) for set in possible_sets]\n",
    "        min_possible_set_length = min(possible_set_lengths)\n",
    "        possible_hands = [hand for hand in possible_hands if len(set(hand))==min_possible_set_length]\n",
    "        max_count = max([max_count_card(hand) for hand in possible_hands])\n",
    "        possible_hands = [hand for hand in possible_hands if max_count_card(hand) == max_count]\n",
    "        if len(possible_hands) > 1:\n",
    "            print('grrrr')\n",
    "            hand = best_hand(possible_hands)\n",
    "            set_hand = set(hand)\n",
    "            list_set_hand = list(set_hand)\n",
    "        else:\n",
    "            hand = possible_hands[0]\n",
    "            set_hand = set(hand)\n",
    "            list_set_hand = list(set_hand)\n",
    "    \n",
    "    if len(set_hand)==1:\n",
    "        return 0\n",
    "    if len(set_hand)==2:\n",
    "        if hand.count(list_set_hand[0])==4 or hand.count(list_set_hand[0])==1:\n",
    "            return 1\n",
    "        else:\n",
    "            return 2\n",
    "    if len(set_hand)==3:\n",
    "        if hand.count(list_set_hand[0])==3 or hand.count(list_set_hand[1])==3 or hand.count(list_set_hand[2])==3:\n",
    "            return 3\n",
    "        else:\n",
    "            return 4\n",
    "    if len(set_hand)==4:\n",
    "        return 5\n",
    "    if len(set_hand)==5:\n",
    "        return 6\n",
    "\n",
    "def new_replace_hand(hand):\n",
    "    new_hand = ''\n",
    "    for card in hand:\n",
    "        new_hand += new_replacements[new_ranked_cards.index(card)]\n",
    "    return new_hand"
   ]
  },
  {
   "cell_type": "code",
   "execution_count": 12,
   "id": "631f721b-aee1-433f-ab59-cb8d4eb54b32",
   "metadata": {},
   "outputs": [],
   "source": [
    "def new_total_winnings():\n",
    "    five_of_a_kinds = []\n",
    "    four_of_a_kinds = []\n",
    "    full_houses = []\n",
    "    three_of_a_kinds = []\n",
    "    two_pairs = []\n",
    "    one_pairs = []\n",
    "    high_cards = []\n",
    "    \n",
    "    for i, hand in enumerate(hands):\n",
    "        hand_type = new_determine_type(hand)\n",
    "        replaced_hand = new_replace_hand(hand)\n",
    "        if hand_type == 0:\n",
    "            five_of_a_kinds.append((replaced_hand, bids[i]))\n",
    "        elif hand_type == 1:\n",
    "            four_of_a_kinds.append((replaced_hand, bids[i]))\n",
    "        elif hand_type==2:\n",
    "            full_houses.append((replaced_hand, bids[i]))\n",
    "        elif hand_type==3:\n",
    "            three_of_a_kinds.append((replaced_hand, bids[i]))\n",
    "        elif hand_type==4:\n",
    "            two_pairs.append((replaced_hand, bids[i]))\n",
    "        elif hand_type==5:\n",
    "            one_pairs.append((replaced_hand, bids[i]))\n",
    "        else:\n",
    "            high_cards.append((replaced_hand, bids[i]))\n",
    "    \n",
    "    ordered_bids = []\n",
    "    for some_list in [five_of_a_kinds, four_of_a_kinds, full_houses, three_of_a_kinds, two_pairs, one_pairs, high_cards]:\n",
    "        ordered_bids += order_list(some_list)\n",
    "    \n",
    "    total_winnings = 0\n",
    "    for i in range(len(ordered_bids)):\n",
    "        total_winnings += (i+1)*ordered_bids[::-1][i]\n",
    "        \n",
    "    return total_winnings"
   ]
  },
  {
   "cell_type": "code",
   "execution_count": 13,
   "id": "9a12b42a-7cc8-4e26-9571-a9df63f7e176",
   "metadata": {},
   "outputs": [
    {
     "data": {
      "text/plain": [
       "5905"
      ]
     },
     "execution_count": 13,
     "metadata": {},
     "output_type": "execute_result"
    }
   ],
   "source": [
    "new_total_winnings()"
   ]
  },
  {
   "cell_type": "code",
   "execution_count": null,
   "id": "3eda0796-0f5e-4973-bd7c-ee9dce5697e4",
   "metadata": {},
   "outputs": [],
   "source": []
  }
 ],
 "metadata": {
  "kernelspec": {
   "display_name": "Python 3 (ipykernel)",
   "language": "python",
   "name": "python3"
  },
  "language_info": {
   "codemirror_mode": {
    "name": "ipython",
    "version": 3
   },
   "file_extension": ".py",
   "mimetype": "text/x-python",
   "name": "python",
   "nbconvert_exporter": "python",
   "pygments_lexer": "ipython3",
   "version": "3.9.2"
  }
 },
 "nbformat": 4,
 "nbformat_minor": 5
}
