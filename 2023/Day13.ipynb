{
 "cells": [
  {
   "cell_type": "markdown",
   "id": "04aeb3ce-8d21-4279-8e33-8a90b15113aa",
   "metadata": {},
   "source": [
    "# Day 13"
   ]
  },
  {
   "cell_type": "markdown",
   "id": "d88ca8e7-ab42-4ea7-af22-09f19e1a35b2",
   "metadata": {},
   "source": [
    "## Part 1"
   ]
  },
  {
   "cell_type": "code",
   "execution_count": 1,
   "id": "22990034-2d82-458b-bce1-da39ea8cd2c5",
   "metadata": {},
   "outputs": [],
   "source": [
    "lines = [line.rstrip() for line in open('day13_input.txt')]\n",
    "# lines = [line.rstrip() for line in open('day13_sample.txt')]"
   ]
  },
  {
   "cell_type": "code",
   "execution_count": 2,
   "id": "a54fedef-8c14-4ecd-b721-59cb72713e59",
   "metadata": {},
   "outputs": [],
   "source": [
    "def find_reflections(lines):\n",
    "    # horizontal reflection\n",
    "    for i in range(1, len(lines)):\n",
    "        l = min(i, len(lines) - i)\n",
    "        if lines[(i-l):i] == lines[i:i+l][::-1]:\n",
    "            return i * 100\n",
    "\n",
    "    # vertical reflection\n",
    "    num_cols = len(lines[0])\n",
    "    cols = [[] for j in range(num_cols)]\n",
    "    for i in range(num_cols):\n",
    "        for j in range(len(lines)):\n",
    "            cols[i].append(lines[j][i])\n",
    "    for i in range(1, len(cols)):\n",
    "        l = min(i, len(cols) - i)\n",
    "        if cols[(i-l):i] == cols[i:i+l][::-1]:\n",
    "            return i"
   ]
  },
  {
   "cell_type": "code",
   "execution_count": 3,
   "id": "676e0d73-c539-46cc-a846-0fe096a15124",
   "metadata": {},
   "outputs": [],
   "source": [
    "def run_part1():\n",
    "    # lines = [line.rstrip() for line in open('day13_input.txt')]\n",
    "    lines = [line.rstrip() for line in open('day13_sample.txt')]\n",
    "    \n",
    "    group_indices = [index for index,line in enumerate(lines) if line=='']\n",
    "    group_indices.append(len(lines))\n",
    "    \n",
    "    result = 0\n",
    "    last_index = -1\n",
    "    while len(group_indices):\n",
    "        new_index = group_indices.pop(0)\n",
    "        lines_to_analyze = lines[last_index+1:new_index]\n",
    "        result += find_reflections(lines_to_analyze)\n",
    "        last_index = new_index\n",
    "\n",
    "    return result"
   ]
  },
  {
   "cell_type": "code",
   "execution_count": 4,
   "id": "63a7fafc-27d5-4d2e-a82d-d76812c2bf06",
   "metadata": {},
   "outputs": [
    {
     "data": {
      "text/plain": [
       "405"
      ]
     },
     "execution_count": 4,
     "metadata": {},
     "output_type": "execute_result"
    }
   ],
   "source": [
    "run_part1()"
   ]
  },
  {
   "cell_type": "code",
   "execution_count": null,
   "id": "8950b1a8-8f3f-468a-923b-7a2bf1968f4a",
   "metadata": {},
   "outputs": [],
   "source": []
  }
 ],
 "metadata": {
  "kernelspec": {
   "display_name": "Python 3 (ipykernel)",
   "language": "python",
   "name": "python3"
  },
  "language_info": {
   "codemirror_mode": {
    "name": "ipython",
    "version": 3
   },
   "file_extension": ".py",
   "mimetype": "text/x-python",
   "name": "python",
   "nbconvert_exporter": "python",
   "pygments_lexer": "ipython3",
   "version": "3.9.2"
  }
 },
 "nbformat": 4,
 "nbformat_minor": 5
}
