{
 "cells": [
  {
   "cell_type": "markdown",
   "id": "8cf4d674-1907-4e63-aab3-a4bf499b9c37",
   "metadata": {},
   "source": [
    "# Day 2"
   ]
  },
  {
   "cell_type": "markdown",
   "id": "e7369864-3f10-4c28-bfc2-04663c13f6c5",
   "metadata": {},
   "source": [
    "## Part 1"
   ]
  },
  {
   "cell_type": "code",
   "execution_count": 88,
   "id": "d494c47e-2b67-4694-b1a0-0bce6fb54e66",
   "metadata": {},
   "outputs": [],
   "source": [
    "#day2games = [line.rstrip() for line in open('day2_input.txt')]\n",
    "day2games = [line.rstrip() for line in open('day2_sample1.txt')]"
   ]
  },
  {
   "cell_type": "code",
   "execution_count": 89,
   "id": "41c073af-7e06-4be5-adeb-0fd9e33fd353",
   "metadata": {},
   "outputs": [],
   "source": [
    "def parse_game(\n",
    "        game,\n",
    "        total_dict = {'red': 12,'green': 13,'blue': 14}\n",
    "              ):\n",
    "    game_num = int(game.split(': ')[0].split('Game ')[1])\n",
    "    draws = game.split(': ')[1].split('; ')\n",
    "    draws = [draw.replace(',','') for draw in draws]\n",
    "    impossible = False\n",
    "    for draw in draws:\n",
    "        colors = draw.split(' ')[1::2]\n",
    "        numbers = [int(number) for number in draw.split(' ')[::2]]\n",
    "        for color,number in zip(colors,numbers):\n",
    "            if number > total_dict[color]:\n",
    "                impossible = True\n",
    "                break\n",
    "    return game_num if not impossible else 0"
   ]
  },
  {
   "cell_type": "code",
   "execution_count": 90,
   "id": "f45415af-4740-4194-8932-5c0d15192e84",
   "metadata": {},
   "outputs": [
    {
     "data": {
      "text/plain": [
       "8"
      ]
     },
     "execution_count": 90,
     "metadata": {},
     "output_type": "execute_result"
    }
   ],
   "source": [
    "sum([parse_game(game) for game in day2games])"
   ]
  },
  {
   "cell_type": "markdown",
   "id": "35fb7ab5-636c-463d-b23f-1a2bfe956401",
   "metadata": {},
   "source": [
    "## Part 2"
   ]
  },
  {
   "cell_type": "code",
   "execution_count": 101,
   "id": "6cb414fc-e67f-466a-813f-f35c951d8064",
   "metadata": {},
   "outputs": [],
   "source": [
    "import math\n",
    "\n",
    "def fewest_possible_game(game):\n",
    "    game_num = int(game.split(': ')[0].split('Game ')[1])\n",
    "    draws = game.split(': ')[1].split('; ')\n",
    "    draws = [draw.replace(',','') for draw in draws]\n",
    "    fewest_possible_game = {\n",
    "        'red': 0,\n",
    "        'blue': 0,\n",
    "        'green': 0\n",
    "    }\n",
    "    for draw in draws:\n",
    "        colors = draw.split(' ')[1::2]\n",
    "        numbers = [int(number) for number in draw.split(' ')[::2]]\n",
    "        for color,number in zip(colors,numbers):\n",
    "            if number > fewest_possible_game[color]:\n",
    "                fewest_possible_game[color] = number\n",
    "    return math.prod(fewest_possible_game.values())"
   ]
  },
  {
   "cell_type": "markdown",
   "id": "c38401bb-7f0e-41d0-8161-282b45d6f748",
   "metadata": {},
   "source": [
    "The power of a set of cubes is equal to the numbers of red, green, and blue cubes multiplied together. The power of the minimum set of cubes in game 1 is 48. In games 2-5 it was 12, 1560, 630, and 36, respectively. Adding up these five powers produces the sum 2286."
   ]
  },
  {
   "cell_type": "code",
   "execution_count": 109,
   "id": "6e9d0d16-a65e-4836-8b76-539ff771226f",
   "metadata": {},
   "outputs": [
    {
     "data": {
      "text/plain": [
       "2286"
      ]
     },
     "execution_count": 109,
     "metadata": {},
     "output_type": "execute_result"
    }
   ],
   "source": [
    "sum([fewest_possible_game(game) for game in day2games])"
   ]
  },
  {
   "cell_type": "code",
   "execution_count": null,
   "id": "c7b921b6-bcb4-40b6-aa5f-e5a8ca7943ca",
   "metadata": {},
   "outputs": [],
   "source": []
  }
 ],
 "metadata": {
  "kernelspec": {
   "display_name": "Python 3 (ipykernel)",
   "language": "python",
   "name": "python3"
  },
  "language_info": {
   "codemirror_mode": {
    "name": "ipython",
    "version": 3
   },
   "file_extension": ".py",
   "mimetype": "text/x-python",
   "name": "python",
   "nbconvert_exporter": "python",
   "pygments_lexer": "ipython3",
   "version": "3.9.2"
  }
 },
 "nbformat": 4,
 "nbformat_minor": 5
}
