{
 "cells": [
  {
   "cell_type": "markdown",
   "id": "db565f41-1be1-4b5f-985c-73235b580ba8",
   "metadata": {},
   "source": [
    "# Day 6"
   ]
  },
  {
   "cell_type": "markdown",
   "id": "4b1c40cb-fd85-4864-9881-ca77491dac6c",
   "metadata": {},
   "source": [
    "## Part 1"
   ]
  },
  {
   "cell_type": "code",
   "execution_count": null,
   "id": "9163ec1f-77eb-4fdc-a333-b5a4717708bd",
   "metadata": {},
   "outputs": [],
   "source": [
    "# lines = [line.rstrip() for line in open('day6_input.txt')]\n",
    "lines = [line.rstrip() for line in open('day6_sample.txt')]"
   ]
  }
 ],
 "metadata": {
  "kernelspec": {
   "display_name": "Python 3 (ipykernel)",
   "language": "python",
   "name": "python3"
  },
  "language_info": {
   "codemirror_mode": {
    "name": "ipython",
    "version": 3
   },
   "file_extension": ".py",
   "mimetype": "text/x-python",
   "name": "python",
   "nbconvert_exporter": "python",
   "pygments_lexer": "ipython3",
   "version": "3.9.2"
  }
 },
 "nbformat": 4,
 "nbformat_minor": 5
}
