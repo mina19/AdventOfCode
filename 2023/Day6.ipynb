{
 "cells": [
  {
   "cell_type": "markdown",
   "id": "db565f41-1be1-4b5f-985c-73235b580ba8",
   "metadata": {},
   "source": [
    "# Day 6"
   ]
  },
  {
   "cell_type": "markdown",
   "id": "4b1c40cb-fd85-4864-9881-ca77491dac6c",
   "metadata": {},
   "source": [
    "## Part 1"
   ]
  },
  {
   "cell_type": "code",
   "execution_count": 30,
   "id": "9163ec1f-77eb-4fdc-a333-b5a4717708bd",
   "metadata": {},
   "outputs": [],
   "source": [
    "#lines = [line.rstrip() for line in open('day6_input.txt')]\n",
    "lines = [line.rstrip() for line in open('day6_sample.txt')]"
   ]
  },
  {
   "cell_type": "code",
   "execution_count": 31,
   "id": "1e0fff50-5188-4940-94a4-22c4a985120f",
   "metadata": {},
   "outputs": [
    {
     "data": {
      "text/plain": [
       "['Time:      7  15   30', 'Distance:  9  40  200']"
      ]
     },
     "execution_count": 31,
     "metadata": {},
     "output_type": "execute_result"
    }
   ],
   "source": [
    "lines"
   ]
  },
  {
   "cell_type": "code",
   "execution_count": 32,
   "id": "5b255661-9152-4027-9cd9-021fc4f2283b",
   "metadata": {},
   "outputs": [],
   "source": [
    "times = [int(num) for num in lines[0].split(':')[1].split(' ') if num.isdigit()]\n",
    "records = [int(num) for num in lines[1].split(':')[1].split(' ') if num.isdigit()]"
   ]
  },
  {
   "cell_type": "code",
   "execution_count": 33,
   "id": "28a8b829-9aaa-48f4-a941-eb576ae2f9be",
   "metadata": {},
   "outputs": [],
   "source": [
    "num_of_ways_beat_record = []\n",
    "\n",
    "for time, record in zip(times, records):\n",
    "    records_beat = 0\n",
    "    for t_holddown in range(time+1):\n",
    "        v_i = t_holddown\n",
    "        delta_t = time - t_holddown\n",
    "        distance_moved = v_i * delta_t\n",
    "        if distance_moved > record:\n",
    "            records_beat += 1\n",
    "    num_of_ways_beat_record.append(records_beat)"
   ]
  },
  {
   "cell_type": "code",
   "execution_count": 34,
   "id": "82e7f293-a5b9-41c8-aeb3-e6908b75e5f8",
   "metadata": {},
   "outputs": [
    {
     "data": {
      "text/plain": [
       "288"
      ]
     },
     "execution_count": 34,
     "metadata": {},
     "output_type": "execute_result"
    }
   ],
   "source": [
    "from functools import reduce\n",
    "from operator import mul\n",
    "\n",
    "reduce(mul, num_of_ways_beat_record, 1)"
   ]
  },
  {
   "cell_type": "markdown",
   "id": "86012687-bb9c-4bce-8f02-1d3288bbfdd0",
   "metadata": {},
   "source": [
    "## Part 2"
   ]
  },
  {
   "cell_type": "code",
   "execution_count": 40,
   "id": "7032c4fa-c6c9-4173-ad62-082a62011b75",
   "metadata": {},
   "outputs": [],
   "source": [
    "time = int(lines[0].split(':')[1].replace(' ', ''))\n",
    "record = int(lines[1].split(':')[1].replace(' ', ''))"
   ]
  },
  {
   "cell_type": "code",
   "execution_count": 41,
   "id": "cf09014b-b794-4e5c-890b-2698bfc0d714",
   "metadata": {},
   "outputs": [],
   "source": [
    "num_of_ways_beat_record = []\n",
    "records_beat = 0\n",
    "for t_holddown in range(time+1):\n",
    "    v_i = t_holddown\n",
    "    delta_t = time - t_holddown\n",
    "    distance_moved = v_i * delta_t\n",
    "    if distance_moved > record:\n",
    "        records_beat += 1\n",
    "num_of_ways_beat_record.append(records_beat)"
   ]
  },
  {
   "cell_type": "code",
   "execution_count": 42,
   "id": "67e9e415-b5d3-4055-bd1c-4d7a73b247ff",
   "metadata": {},
   "outputs": [
    {
     "data": {
      "text/plain": [
       "[71503]"
      ]
     },
     "execution_count": 42,
     "metadata": {},
     "output_type": "execute_result"
    }
   ],
   "source": [
    "num_of_ways_beat_record"
   ]
  },
  {
   "cell_type": "code",
   "execution_count": null,
   "id": "d775c52d-2f6c-40b9-a6ad-c27a630688e7",
   "metadata": {},
   "outputs": [],
   "source": []
  }
 ],
 "metadata": {
  "kernelspec": {
   "display_name": "Python 3 (ipykernel)",
   "language": "python",
   "name": "python3"
  },
  "language_info": {
   "codemirror_mode": {
    "name": "ipython",
    "version": 3
   },
   "file_extension": ".py",
   "mimetype": "text/x-python",
   "name": "python",
   "nbconvert_exporter": "python",
   "pygments_lexer": "ipython3",
   "version": "3.9.2"
  }
 },
 "nbformat": 4,
 "nbformat_minor": 5
}
