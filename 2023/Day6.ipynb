{
 "cells": [
  {
   "cell_type": "markdown",
   "id": "db565f41-1be1-4b5f-985c-73235b580ba8",
   "metadata": {},
   "source": [
    "# Day 6"
   ]
  },
  {
   "cell_type": "markdown",
   "id": "4b1c40cb-fd85-4864-9881-ca77491dac6c",
   "metadata": {},
   "source": [
    "## Part 1"
   ]
  },
  {
   "cell_type": "code",
   "execution_count": 1,
   "id": "9163ec1f-77eb-4fdc-a333-b5a4717708bd",
   "metadata": {},
   "outputs": [],
   "source": [
    "# lines = [line.rstrip() for line in open('day6_input.txt')]\n",
    "lines = [line.rstrip() for line in open('day6_sample.txt')]"
   ]
  },
  {
   "cell_type": "code",
   "execution_count": 2,
   "id": "5b255661-9152-4027-9cd9-021fc4f2283b",
   "metadata": {},
   "outputs": [],
   "source": [
    "times = [int(num) for num in lines[0].split(':')[1].split(' ') if num.isdigit()]\n",
    "records = [int(num) for num in lines[1].split(':')[1].split(' ') if num.isdigit()]"
   ]
  },
  {
   "cell_type": "code",
   "execution_count": 3,
   "id": "fce22d3f-a321-4953-8bfa-ad5ef076dc68",
   "metadata": {},
   "outputs": [],
   "source": [
    "from functools import wraps\n",
    "from time import time\n",
    "\n",
    "def timing(f):\n",
    "    @wraps(f)\n",
    "    def wrap(*args, **kw):\n",
    "        ts = time()\n",
    "        result = f(*args, **kw)\n",
    "        te = time()\n",
    "        print('func:%r args:[%r, %r] took: %2.10f sec' % \\\n",
    "          (f.__name__, args, kw, te-ts))\n",
    "        return result\n",
    "    return wrap"
   ]
  },
  {
   "cell_type": "markdown",
   "id": "6fd0caa6-27b5-44e6-b710-e00435156fa9",
   "metadata": {},
   "source": [
    "## Naive solution"
   ]
  },
  {
   "cell_type": "code",
   "execution_count": 4,
   "id": "28a8b829-9aaa-48f4-a941-eb576ae2f9be",
   "metadata": {},
   "outputs": [],
   "source": [
    "from functools import reduce\n",
    "from operator import mul\n",
    "\n",
    "@timing\n",
    "def run_solver():\n",
    "    num_of_ways_beat_record = []\n",
    "    \n",
    "    for t, record in zip(times, records):\n",
    "        records_beat = 0\n",
    "        for t_holddown in range(t+1):\n",
    "            v_i = t_holddown\n",
    "            delta_t = t - t_holddown\n",
    "            distance_moved = v_i * delta_t\n",
    "            if distance_moved > record:\n",
    "                records_beat += 1\n",
    "        num_of_ways_beat_record.append(records_beat)\n",
    "        return reduce(mul, num_of_ways_beat_record, 1)"
   ]
  },
  {
   "cell_type": "code",
   "execution_count": 5,
   "id": "82e7f293-a5b9-41c8-aeb3-e6908b75e5f8",
   "metadata": {},
   "outputs": [
    {
     "name": "stdout",
     "output_type": "stream",
     "text": [
      "func:'run_solver' args:[(), {}] took: 0.0000057220 sec\n"
     ]
    },
    {
     "data": {
      "text/plain": [
       "4"
      ]
     },
     "execution_count": 5,
     "metadata": {},
     "output_type": "execute_result"
    }
   ],
   "source": [
    "run_solver()"
   ]
  },
  {
   "cell_type": "markdown",
   "id": "a787eeed-52bf-4dad-89a3-b3a504e01b71",
   "metadata": {},
   "source": [
    "## Improved solution"
   ]
  },
  {
   "cell_type": "code",
   "execution_count": 27,
   "id": "cb879fa9-8ccf-4a82-a427-cc3d2fe7ff94",
   "metadata": {},
   "outputs": [],
   "source": [
    "import math\n",
    "@timing\n",
    "def run_improved_solver():\n",
    "    for t, record in zip(times, records):\n",
    "        t_crossover = (t - math.sqrt(t**2 - 4*record)) / 2\n",
    "        print(t - t_crossover, t)"
   ]
  },
  {
   "cell_type": "code",
   "execution_count": 28,
   "id": "7697e621-83ac-47b6-9e63-3d216ba2cb3c",
   "metadata": {},
   "outputs": [
    {
     "name": "stdout",
     "output_type": "stream",
     "text": [
      "5.302775637731995 7\n",
      "11.531128874149275 15\n",
      "20.0 30\n",
      "func:'run_improved_solver' args:[(), {}] took: 0.0000624657 sec\n"
     ]
    }
   ],
   "source": [
    "run_improved_solver()"
   ]
  },
  {
   "cell_type": "markdown",
   "id": "86012687-bb9c-4bce-8f02-1d3288bbfdd0",
   "metadata": {},
   "source": [
    "## Part 2"
   ]
  },
  {
   "cell_type": "code",
   "execution_count": null,
   "id": "7032c4fa-c6c9-4173-ad62-082a62011b75",
   "metadata": {},
   "outputs": [],
   "source": [
    "t = int(lines[0].split(':')[1].replace(' ', ''))\n",
    "record = int(lines[1].split(':')[1].replace(' ', ''))"
   ]
  },
  {
   "cell_type": "markdown",
   "id": "5374b7a9-e23d-4aa0-92c5-4e66499b95e0",
   "metadata": {},
   "source": [
    "## Naive solution"
   ]
  },
  {
   "cell_type": "code",
   "execution_count": null,
   "id": "cf09014b-b794-4e5c-890b-2698bfc0d714",
   "metadata": {},
   "outputs": [],
   "source": [
    "@timing\n",
    "def run_solver():\n",
    "    records_beat = 0\n",
    "    for t_holddown in range(t+1):\n",
    "        v_i = t_holddown\n",
    "        delta_t = t - t_holddown\n",
    "        distance_moved = v_i * delta_t\n",
    "        if distance_moved > record:\n",
    "            records_beat += 1\n",
    "    return records_beat"
   ]
  },
  {
   "cell_type": "code",
   "execution_count": null,
   "id": "67e9e415-b5d3-4055-bd1c-4d7a73b247ff",
   "metadata": {},
   "outputs": [],
   "source": [
    "run_solver()"
   ]
  },
  {
   "cell_type": "code",
   "execution_count": null,
   "id": "d775c52d-2f6c-40b9-a6ad-c27a630688e7",
   "metadata": {},
   "outputs": [],
   "source": []
  }
 ],
 "metadata": {
  "kernelspec": {
   "display_name": "Python 3 (ipykernel)",
   "language": "python",
   "name": "python3"
  },
  "language_info": {
   "codemirror_mode": {
    "name": "ipython",
    "version": 3
   },
   "file_extension": ".py",
   "mimetype": "text/x-python",
   "name": "python",
   "nbconvert_exporter": "python",
   "pygments_lexer": "ipython3",
   "version": "3.9.2"
  }
 },
 "nbformat": 4,
 "nbformat_minor": 5
}
