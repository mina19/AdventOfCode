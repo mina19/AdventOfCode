{
 "cells": [
  {
   "cell_type": "markdown",
   "id": "db565f41-1be1-4b5f-985c-73235b580ba8",
   "metadata": {},
   "source": [
    "# Day 6"
   ]
  },
  {
   "cell_type": "markdown",
   "id": "4b1c40cb-fd85-4864-9881-ca77491dac6c",
   "metadata": {},
   "source": [
    "## Part 1"
   ]
  },
  {
   "cell_type": "code",
   "execution_count": 1,
   "id": "9163ec1f-77eb-4fdc-a333-b5a4717708bd",
   "metadata": {},
   "outputs": [],
   "source": [
    "lines = [line.rstrip() for line in open('day6_input.txt')]\n",
    "# lines = [line.rstrip() for line in open('day6_sample.txt')]"
   ]
  },
  {
   "cell_type": "code",
   "execution_count": 2,
   "id": "5b255661-9152-4027-9cd9-021fc4f2283b",
   "metadata": {},
   "outputs": [],
   "source": [
    "times = [int(num) for num in lines[0].split(':')[1].split(' ') if num.isdigit()]\n",
    "records = [int(num) for num in lines[1].split(':')[1].split(' ') if num.isdigit()]"
   ]
  },
  {
   "cell_type": "code",
   "execution_count": 3,
   "id": "fce22d3f-a321-4953-8bfa-ad5ef076dc68",
   "metadata": {},
   "outputs": [],
   "source": [
    "from functools import wraps\n",
    "from time import time\n",
    "\n",
    "def timing(f):\n",
    "    @wraps(f)\n",
    "    def wrap(*args, **kw):\n",
    "        ts = time()\n",
    "        result = f(*args, **kw)\n",
    "        te = time()\n",
    "        print('func:%r args:[%r, %r] took: %2.10f sec' % \\\n",
    "          (f.__name__, args, kw, te-ts))\n",
    "        return result\n",
    "    return wrap"
   ]
  },
  {
   "cell_type": "markdown",
   "id": "6fd0caa6-27b5-44e6-b710-e00435156fa9",
   "metadata": {},
   "source": [
    "## Naive solution"
   ]
  },
  {
   "cell_type": "code",
   "execution_count": 4,
   "id": "28a8b829-9aaa-48f4-a941-eb576ae2f9be",
   "metadata": {},
   "outputs": [],
   "source": [
    "from functools import reduce\n",
    "from operator import mul\n",
    "\n",
    "@timing\n",
    "def run_solver():\n",
    "    num_of_ways_beat_record = []\n",
    "    \n",
    "    for t, record in zip(times, records):\n",
    "        records_beat = 0\n",
    "        for t_holddown in range(t+1):\n",
    "            v_i = t_holddown\n",
    "            delta_t = t - t_holddown\n",
    "            distance_moved = v_i * delta_t\n",
    "            if distance_moved > record:\n",
    "                records_beat += 1\n",
    "        num_of_ways_beat_record.append(records_beat)\n",
    "    \n",
    "    return reduce(mul, num_of_ways_beat_record, 1)"
   ]
  },
  {
   "cell_type": "code",
   "execution_count": 5,
   "id": "7f620d67-726b-472e-af1c-dd71783f2e10",
   "metadata": {},
   "outputs": [
    {
     "name": "stdout",
     "output_type": "stream",
     "text": [
      "func:'run_solver' args:[(), {}] took: 0.0000255108 sec\n"
     ]
    },
    {
     "data": {
      "text/plain": [
       "3316275"
      ]
     },
     "execution_count": 5,
     "metadata": {},
     "output_type": "execute_result"
    }
   ],
   "source": [
    "run_solver()"
   ]
  },
  {
   "cell_type": "markdown",
   "id": "a787eeed-52bf-4dad-89a3-b3a504e01b71",
   "metadata": {},
   "source": [
    "## Improved solution"
   ]
  },
  {
   "cell_type": "code",
   "execution_count": 6,
   "id": "cb879fa9-8ccf-4a82-a427-cc3d2fe7ff94",
   "metadata": {},
   "outputs": [],
   "source": [
    "import math\n",
    "@timing\n",
    "def run_improved_solver():\n",
    "    num_of_ways_beat_record = []\n",
    "    \n",
    "    for t, record in zip(times, records):\n",
    "        t_crossover1 = (t - math.sqrt(t**2 - 4*(record+0.0001))) / 2\n",
    "        t_crossover2 = (t + math.sqrt(t**2 - 4*(record+0.0001))) / 2\n",
    "        num_of_ways_beat_record.append(\n",
    "            math.floor(t_crossover2) - math.ceil(t_crossover1) + 1\n",
    "        )\n",
    "    return reduce(mul, num_of_ways_beat_record, 1)  "
   ]
  },
  {
   "cell_type": "code",
   "execution_count": 7,
   "id": "748a9642-34e2-41ea-9eba-b756d9a6e94c",
   "metadata": {},
   "outputs": [],
   "source": [
    "import numpy as np\n",
    "\n",
    "@timing\n",
    "def run_improved_solver2():\n",
    "    num_of_ways_beat_record = []\n",
    "    \n",
    "    for t, record in zip(times, records):\n",
    "        t_crossover1, t_crossover2 = np.roots([1, -t, record+0.0001])\n",
    "        num_of_ways_beat_record.append(\n",
    "            math.floor(t_crossover2) - math.ceil(t_crossover1) + 1\n",
    "        )\n",
    "    return abs(reduce(mul, num_of_ways_beat_record, 1))"
   ]
  },
  {
   "cell_type": "code",
   "execution_count": 8,
   "id": "89a0a38f-ef71-479e-a195-ef840f6a2e20",
   "metadata": {},
   "outputs": [
    {
     "name": "stdout",
     "output_type": "stream",
     "text": [
      "func:'run_improved_solver' args:[(), {}] took: 0.0000166893 sec\n"
     ]
    },
    {
     "data": {
      "text/plain": [
       "3316275"
      ]
     },
     "execution_count": 8,
     "metadata": {},
     "output_type": "execute_result"
    }
   ],
   "source": [
    "run_improved_solver()"
   ]
  },
  {
   "cell_type": "code",
   "execution_count": 9,
   "id": "7697e621-83ac-47b6-9e63-3d216ba2cb3c",
   "metadata": {},
   "outputs": [
    {
     "name": "stdout",
     "output_type": "stream",
     "text": [
      "func:'run_improved_solver2' args:[(), {}] took: 0.0004601479 sec\n"
     ]
    },
    {
     "data": {
      "text/plain": [
       "3316275"
      ]
     },
     "execution_count": 9,
     "metadata": {},
     "output_type": "execute_result"
    }
   ],
   "source": [
    "run_improved_solver2()"
   ]
  },
  {
   "cell_type": "markdown",
   "id": "86012687-bb9c-4bce-8f02-1d3288bbfdd0",
   "metadata": {},
   "source": [
    "## Part 2"
   ]
  },
  {
   "cell_type": "code",
   "execution_count": 10,
   "id": "7032c4fa-c6c9-4173-ad62-082a62011b75",
   "metadata": {},
   "outputs": [],
   "source": [
    "times = [int(lines[0].split(':')[1].replace(' ', ''))]\n",
    "records = [int(lines[1].split(':')[1].replace(' ', ''))]"
   ]
  },
  {
   "cell_type": "markdown",
   "id": "5374b7a9-e23d-4aa0-92c5-4e66499b95e0",
   "metadata": {},
   "source": [
    "## Naive solution"
   ]
  },
  {
   "cell_type": "code",
   "execution_count": 11,
   "id": "70502bfd-3c19-477d-af91-dcbe2daf7061",
   "metadata": {},
   "outputs": [
    {
     "name": "stdout",
     "output_type": "stream",
     "text": [
      "func:'run_solver' args:[(), {}] took: 3.2976634502 sec\n"
     ]
    },
    {
     "data": {
      "text/plain": [
       "27102791"
      ]
     },
     "execution_count": 11,
     "metadata": {},
     "output_type": "execute_result"
    }
   ],
   "source": [
    "run_solver()"
   ]
  },
  {
   "cell_type": "markdown",
   "id": "bd31b278-b0be-4712-846b-669a04e921ff",
   "metadata": {},
   "source": [
    "## Improved solution"
   ]
  },
  {
   "cell_type": "code",
   "execution_count": 12,
   "id": "4e37efc2-741e-4c90-ad67-8add2498c253",
   "metadata": {},
   "outputs": [
    {
     "name": "stdout",
     "output_type": "stream",
     "text": [
      "func:'run_improved_solver' args:[(), {}] took: 0.0000212193 sec\n"
     ]
    },
    {
     "data": {
      "text/plain": [
       "27102791"
      ]
     },
     "execution_count": 12,
     "metadata": {},
     "output_type": "execute_result"
    }
   ],
   "source": [
    "run_improved_solver()"
   ]
  },
  {
   "cell_type": "code",
   "execution_count": 13,
   "id": "fb9aaa9c-178c-4656-98b8-bba4b90659c8",
   "metadata": {},
   "outputs": [
    {
     "name": "stdout",
     "output_type": "stream",
     "text": [
      "func:'run_improved_solver2' args:[(), {}] took: 0.0016913414 sec\n"
     ]
    },
    {
     "data": {
      "text/plain": [
       "27102791"
      ]
     },
     "execution_count": 13,
     "metadata": {},
     "output_type": "execute_result"
    }
   ],
   "source": [
    "run_improved_solver2()"
   ]
  },
  {
   "cell_type": "code",
   "execution_count": null,
   "id": "bb3a6e7c-56e8-4ff1-99d2-32f281a00ff5",
   "metadata": {},
   "outputs": [],
   "source": []
  }
 ],
 "metadata": {
  "kernelspec": {
   "display_name": "Python 3 (ipykernel)",
   "language": "python",
   "name": "python3"
  },
  "language_info": {
   "codemirror_mode": {
    "name": "ipython",
    "version": 3
   },
   "file_extension": ".py",
   "mimetype": "text/x-python",
   "name": "python",
   "nbconvert_exporter": "python",
   "pygments_lexer": "ipython3",
   "version": "3.9.2"
  }
 },
 "nbformat": 4,
 "nbformat_minor": 5
}
