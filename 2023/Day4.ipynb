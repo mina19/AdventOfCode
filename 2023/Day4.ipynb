{
 "cells": [
  {
   "cell_type": "markdown",
   "id": "029b6bb9-836c-41e8-a1eb-3ceca1334202",
   "metadata": {},
   "source": [
    "# Day 4"
   ]
  },
  {
   "cell_type": "markdown",
   "id": "8b64aeef-4c7b-4419-960d-b1a518cf7e63",
   "metadata": {},
   "source": [
    "## Part 1"
   ]
  },
  {
   "cell_type": "code",
   "execution_count": 1,
   "id": "3c635a1d-4ef1-47e1-bdbb-27832a1a2651",
   "metadata": {},
   "outputs": [],
   "source": [
    "# lines = [line.rstrip() for line in open('day4_input.txt')]\n",
    "lines = [line.rstrip() for line in open('day4_sample.txt')]"
   ]
  },
  {
   "cell_type": "code",
   "execution_count": 2,
   "id": "dc75e1d4-1b03-4c95-a4ae-568d9fedd219",
   "metadata": {},
   "outputs": [],
   "source": [
    "def parse_line(line):\n",
    "    winning_numbers = [\n",
    "        int(num) for num in line.split(' | ')[0].split(': ')[1].split(' ') if num.isdigit()\n",
    "    ]\n",
    "    card_numbers = [\n",
    "        int(num) for num in line.split(' | ')[1].split(' ') if num.isdigit()\n",
    "    ]\n",
    "    matching_numbers = list(set(winning_numbers).intersection(card_numbers))\n",
    "    return len(matching_numbers)"
   ]
  },
  {
   "cell_type": "code",
   "execution_count": 3,
   "id": "97371ae7-484e-4936-95c7-9bd05c6a449c",
   "metadata": {},
   "outputs": [
    {
     "data": {
      "text/plain": [
       "13"
      ]
     },
     "execution_count": 3,
     "metadata": {},
     "output_type": "execute_result"
    }
   ],
   "source": [
    "sum([2**(parse_line(line) - 1) for line in lines if parse_line(line)!=0])"
   ]
  },
  {
   "cell_type": "markdown",
   "id": "c6a3a314-7d86-4c45-b9a4-eb5b28d8da8c",
   "metadata": {},
   "source": [
    "## Part 2"
   ]
  },
  {
   "cell_type": "code",
   "execution_count": 4,
   "id": "75e1cbbd-1493-437b-ad5e-b927045c540b",
   "metadata": {},
   "outputs": [],
   "source": [
    "total_count = [1 for _ in range(len(lines))]\n",
    "\n",
    "for i, line in enumerate(lines):\n",
    "    score = parse_line(line)\n",
    "\n",
    "    for j in range(score):\n",
    "        total_count[i + j + 2] += total_count[i + 1]"
   ]
  },
  {
   "cell_type": "code",
   "execution_count": 5,
   "id": "ca77aaeb-c502-4402-a39e-96278762fe89",
   "metadata": {},
   "outputs": [
    {
     "data": {
      "text/plain": [
       "30"
      ]
     },
     "execution_count": 5,
     "metadata": {},
     "output_type": "execute_result"
    }
   ],
   "source": [
    "sum(total_count)"
   ]
  },
  {
   "cell_type": "code",
   "execution_count": null,
   "id": "98d821eb-99b8-4b7d-81b7-c81ea0f06782",
   "metadata": {},
   "outputs": [],
   "source": []
  }
 ],
 "metadata": {
  "kernelspec": {
   "display_name": "Python 3 (ipykernel)",
   "language": "python",
   "name": "python3"
  },
  "language_info": {
   "codemirror_mode": {
    "name": "ipython",
    "version": 3
   },
   "file_extension": ".py",
   "mimetype": "text/x-python",
   "name": "python",
   "nbconvert_exporter": "python",
   "pygments_lexer": "ipython3",
   "version": "3.9.2"
  }
 },
 "nbformat": 4,
 "nbformat_minor": 5
}
