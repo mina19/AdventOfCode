{
 "cells": [
  {
   "cell_type": "markdown",
   "id": "f5c5c8b4-282e-4e8d-ae10-ee9618c72339",
   "metadata": {},
   "source": [
    "# Advent of Code Day 1"
   ]
  },
  {
   "cell_type": "markdown",
   "id": "3676e3fd-6a39-4ea8-b5ef-efda1f6154af",
   "metadata": {},
   "source": [
    "## Part 1"
   ]
  },
  {
   "cell_type": "code",
   "execution_count": 66,
   "id": "3f2217bb-1fa3-436b-ad24-787426d19ff5",
   "metadata": {},
   "outputs": [
    {
     "name": "stdout",
     "output_type": "stream",
     "text": [
      "55208\n"
     ]
    }
   ],
   "source": [
    "day1lines = [line.rstrip() for line in open('day1_input.txt')]\n",
    "# day1lines = [line.rstrip() for line in open('day1_sample.txt')]\n",
    "\n",
    "nums_list = []\n",
    "for line in day1lines:\n",
    "    nums_list.append([int(x) for x in [*line] if x.isdigit()])\n",
    "\n",
    "sum_calibration_vals = sum([nums[0] for nums in nums_list])*10 + sum([nums[-1] for nums in nums_list])\n",
    "print(sum_calibration_vals)"
   ]
  },
  {
   "cell_type": "markdown",
   "id": "47ccb036-b1b8-4771-a9f3-df81d2e7416a",
   "metadata": {},
   "source": [
    "## Part 2"
   ]
  },
  {
   "cell_type": "code",
   "execution_count": 60,
   "id": "aec65c64-8b0f-4f64-9277-47b87e813e35",
   "metadata": {},
   "outputs": [],
   "source": [
    "# day1lines = [line.rstrip() for line in open('day1_sample2.txt')]"
   ]
  },
  {
   "cell_type": "code",
   "execution_count": 61,
   "id": "b1243570-e472-4f3f-abae-881622d27afe",
   "metadata": {},
   "outputs": [],
   "source": [
    "numbers_dict = {\n",
    "    'one': 1,\n",
    "    'two': 2,\n",
    "    'three': 3,\n",
    "    'four': 4,\n",
    "    'five': 5,\n",
    "    'six': 6,\n",
    "    'seven': 7,\n",
    "    'eight': 8,\n",
    "    'nine': 9\n",
    "}"
   ]
  },
  {
   "cell_type": "code",
   "execution_count": 62,
   "id": "8f17525b-c26f-4856-b11a-92ba44ccdadd",
   "metadata": {},
   "outputs": [],
   "source": [
    "nums_list = []\n",
    "for line in day1lines:\n",
    "    list1 = [(numbers_dict[key], line.find(key)) for key in numbers_dict if line.find(key) != - 1]\n",
    "    list2 = [(value,line.find(str(value))) for value in numbers_dict.values() if line.find(str(value)) != - 1]\n",
    "    list3 = [(numbers_dict[key], line.rfind(key)) for key in numbers_dict if line.find(key) != - 1]\n",
    "    list4 = [(value,line.rfind(str(value))) for value in numbers_dict.values() if line.find(str(value)) != - 1]\n",
    "    list_nums = list1 + list2 + list3 + list4\n",
    "    nums_list.append(list_nums)"
   ]
  },
  {
   "cell_type": "code",
   "execution_count": 63,
   "id": "2fe02c69-1895-429d-92cf-91ababce9ab7",
   "metadata": {},
   "outputs": [],
   "source": [
    "for list_nums in nums_list:\n",
    "    list_nums.sort(key=lambda x:x[1])"
   ]
  },
  {
   "cell_type": "code",
   "execution_count": 64,
   "id": "1cd59946-192c-4b4d-b552-5cffd6d04049",
   "metadata": {},
   "outputs": [
    {
     "data": {
      "text/plain": [
       "[23, 22, 45, 22, 78]"
      ]
     },
     "execution_count": 64,
     "metadata": {},
     "output_type": "execute_result"
    }
   ],
   "source": [
    "calibration_vals = [list_nums[0][0]*10 + list_nums[-1][0] for list_nums in nums_list]"
   ]
  },
  {
   "cell_type": "code",
   "execution_count": 65,
   "id": "5fd9d972-2db8-4318-a555-3ed42c7cbf3d",
   "metadata": {},
   "outputs": [
    {
     "data": {
      "text/plain": [
       "54578"
      ]
     },
     "execution_count": 65,
     "metadata": {},
     "output_type": "execute_result"
    }
   ],
   "source": [
    "sum(calibration_vals)"
   ]
  }
 ],
 "metadata": {
  "kernelspec": {
   "display_name": "Python 3 (ipykernel)",
   "language": "python",
   "name": "python3"
  },
  "language_info": {
   "codemirror_mode": {
    "name": "ipython",
    "version": 3
   },
   "file_extension": ".py",
   "mimetype": "text/x-python",
   "name": "python",
   "nbconvert_exporter": "python",
   "pygments_lexer": "ipython3",
   "version": "3.9.2"
  }
 },
 "nbformat": 4,
 "nbformat_minor": 5
}
