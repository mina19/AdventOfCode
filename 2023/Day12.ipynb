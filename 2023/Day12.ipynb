{
 "cells": [
  {
   "cell_type": "markdown",
   "id": "b64da2c2-cb34-4ccb-a235-b7791674fbca",
   "metadata": {},
   "source": [
    "# Day 12"
   ]
  },
  {
   "cell_type": "code",
   "execution_count": 1,
   "id": "977bc662-eb0b-43fe-b7b7-c606b2f5e678",
   "metadata": {},
   "outputs": [],
   "source": [
    "# lines = [line.rstrip() for line in open('day12_input.txt')]\n",
    "lines = [line.rstrip() for line in open('day12_sample.txt')]"
   ]
  },
  {
   "cell_type": "code",
   "execution_count": 2,
   "id": "f1a95848-f8e8-4d46-ad8b-7d03bf0a9c0f",
   "metadata": {},
   "outputs": [],
   "source": [
    "puzzles = [line.split(' ')[0] for line in lines]\n",
    "pieces = [[item for item in puzzle.split('.') if item!=\"\"] for puzzle in puzzles]\n",
    "records = [[int(num) for num in line.split(' ')[1].split(',')] for line in lines]"
   ]
  },
  {
   "cell_type": "code",
   "execution_count": 3,
   "id": "55f381f2-5b7b-47e1-8fff-64baeb6fcd2e",
   "metadata": {},
   "outputs": [],
   "source": [
    "def parse_puzzle(puzzle, record):\n",
    "    pieces = [item for item in puzzle.split('.') if item!=\"\"]\n",
    "    print(pieces)\n",
    "\n",
    "    # def match_record(piece, r):\n",
    "    #     if piece[:r].count('#') != r:\n",
    "    #         piece = piece[0:len(piece)-r] + '#' * r\n",
    "    #     return piece\n",
    "\n",
    "    # def remove_matched(pieces, record):\n",
    "    #     if pieces[-1][len(pieces[-1])-record[-1]].count('#') == record[-1]:\n",
    "    #         pieces.pop()\n",
    "    # print(pieces, record)\n",
    "    # new_pieces = []\n",
    "\n",
    "    \n",
    "\n",
    "    # for r in record[::-1]:\n",
    "    #     while len(pieces):\n",
    "    #         piece = pieces.pop(-1)\n",
    "    #         new_piece = match_record(piece, r)\n",
    "    #         pieces.append(0, new_piece)\n",
    "    # print(new_pieces, record)\n",
    "    # print(pieces[-1], record[-1])\n",
    "    # print(match_record(pieces[-1], record[-1]))"
   ]
  },
  {
   "cell_type": "code",
   "execution_count": 4,
   "id": "00edb4c3-5580-4f33-9e12-c4b7e16eae86",
   "metadata": {},
   "outputs": [
    {
     "name": "stdout",
     "output_type": "stream",
     "text": [
      "['???', '###']\n",
      "['??', '??', '?##']\n",
      "['?#?#?#?#?#?#?#?']\n",
      "['????', '#', '#']\n",
      "['????', '######', '#####']\n",
      "['?###????????']\n"
     ]
    }
   ],
   "source": [
    "for puzzle, record in zip(puzzles, records):\n",
    "    parse_puzzle(puzzle,record)"
   ]
  },
  {
   "cell_type": "code",
   "execution_count": null,
   "id": "13ed5704-65be-44b1-818c-8e6fa46edea0",
   "metadata": {},
   "outputs": [],
   "source": []
  }
 ],
 "metadata": {
  "kernelspec": {
   "display_name": "Python 3 (ipykernel)",
   "language": "python",
   "name": "python3"
  },
  "language_info": {
   "codemirror_mode": {
    "name": "ipython",
    "version": 3
   },
   "file_extension": ".py",
   "mimetype": "text/x-python",
   "name": "python",
   "nbconvert_exporter": "python",
   "pygments_lexer": "ipython3",
   "version": "3.9.2"
  }
 },
 "nbformat": 4,
 "nbformat_minor": 5
}
